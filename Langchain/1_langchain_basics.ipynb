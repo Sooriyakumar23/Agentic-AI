{
 "cells": [
  {
   "cell_type": "code",
   "execution_count": 1,
   "id": "58be6c34",
   "metadata": {},
   "outputs": [],
   "source": [
    "import os\n",
    "from dotenv import load_dotenv"
   ]
  },
  {
   "cell_type": "code",
   "execution_count": 2,
   "id": "a3cf460d",
   "metadata": {},
   "outputs": [
    {
     "data": {
      "text/plain": [
       "True"
      ]
     },
     "execution_count": 2,
     "metadata": {},
     "output_type": "execute_result"
    }
   ],
   "source": [
    "load_dotenv()"
   ]
  },
  {
   "cell_type": "code",
   "execution_count": 3,
   "id": "512f9ea3",
   "metadata": {},
   "outputs": [],
   "source": [
    "os.environ[\"OPENAI_API_KEY\"] = os.getenv(\"OPENAI_API_KEY\")\n",
    "os.environ[\"GROQ_API_KEY\"] = os.getenv(\"GROQ_API_KEY\")\n",
    "\n",
    "# Langsmith Tracking and Tracing\n",
    "os.environ[\"LANGCHAIN_API_KEY\"] = os.getenv(\"LANGCHAIN_API_KEY\")\n",
    "os.environ[\"LANGCHAIN_PROJECT\"] = os.getenv(\"LANGCHAIN_PROJECT\")\n",
    "os.environ[\"LANGCHAIN_TRACING_V2\"] = os.getenv(\"LANGCHAIN_TRACING_V2\")"
   ]
  },
  {
   "cell_type": "code",
   "execution_count": 14,
   "id": "649aa030",
   "metadata": {},
   "outputs": [
    {
     "name": "stdout",
     "output_type": "stream",
     "text": [
      "client=<openai.resources.chat.completions.completions.Completions object at 0x000001F2793C2DA0> async_client=<openai.resources.chat.completions.completions.AsyncCompletions object at 0x000001F2793C3280> root_client=<openai.OpenAI object at 0x000001F2793C2140> root_async_client=<openai.AsyncOpenAI object at 0x000001F2793C3F70> model_name='o1-mini' temperature=1.0 model_kwargs={} openai_api_key=SecretStr('**********')\n"
     ]
    }
   ],
   "source": [
    "from langchain_openai import ChatOpenAI\n",
    "\n",
    "llm = ChatOpenAI(model=\"o1-mini\")\n",
    "\n",
    "print(llm)"
   ]
  },
  {
   "cell_type": "code",
   "execution_count": 15,
   "id": "dabb6ab8",
   "metadata": {},
   "outputs": [
    {
     "name": "stdout",
     "output_type": "stream",
     "text": [
      "Agentic AI is artificial intelligence designed with the ability to independently make decisions, take actions, and pursue objectives within a given environment or framework.\n"
     ]
    }
   ],
   "source": [
    "response = llm.invoke(\"What is Agentic AI in one sentence ?\")\n",
    "\n",
    "print(response.content)"
   ]
  },
  {
   "cell_type": "code",
   "execution_count": 16,
   "id": "dac4c860",
   "metadata": {},
   "outputs": [
    {
     "name": "stdout",
     "output_type": "stream",
     "text": [
      "content='Agentic AI is artificial intelligence designed with the ability to independently make decisions, take actions, and pursue objectives within a given environment or framework.' additional_kwargs={'refusal': None} response_metadata={'token_usage': {'completion_tokens': 231, 'prompt_tokens': 16, 'total_tokens': 247, 'completion_tokens_details': {'accepted_prediction_tokens': 0, 'audio_tokens': 0, 'reasoning_tokens': 192, 'rejected_prediction_tokens': 0}, 'prompt_tokens_details': {'audio_tokens': 0, 'cached_tokens': 0}}, 'model_name': 'o1-mini-2024-09-12', 'system_fingerprint': 'fp_3da8b0b088', 'id': 'chatcmpl-BcxxicwFfGcvKvnEmXkE0nylDmJ0X', 'service_tier': 'default', 'finish_reason': 'stop', 'logprobs': None} id='run--88ff4ba4-5779-44c0-b99d-d94f9961fd90-0' usage_metadata={'input_tokens': 16, 'output_tokens': 231, 'total_tokens': 247, 'input_token_details': {'audio': 0, 'cache_read': 0}, 'output_token_details': {'audio': 0, 'reasoning': 192}}\n"
     ]
    }
   ],
   "source": [
    "print (response)"
   ]
  },
  {
   "cell_type": "code",
   "execution_count": 5,
   "id": "32481c56",
   "metadata": {},
   "outputs": [
    {
     "name": "stdout",
     "output_type": "stream",
     "text": [
      "\n",
      "<think>\n",
      "Okay, so I need to figure out what Agentic AI is in one sentence. Let me start by recalling what I know about AI terms. I've heard terms like \"artificial intelligence,\" \"machine learning,\" \"narrow AI,\" \"general AI,\" maybe \"autonomous systems.\" Agentic AI isn't something I'm super familiar with, but the word \"agentic\" makes me think of \"agent.\" So maybe it's related to AI agents?\n",
      "\n",
      "An \"agent\" in computer science is something that can act independently to some extent, right? Like an autonomous entity that perceives its environment and acts to achieve goals. So Agentic AI might refer to AI systems designed as agents. Maybe they have some level of autonomy, decision-making, and goal-directed behavior. \n",
      "\n",
      "I should check some sources or definitions. Wait, the user is asking for a one-sentence definition, so I need to be concise. The key elements would be autonomy, decision-making, goal-orientation. Maybe also mention that they operate within an environment. \n",
      "\n",
      "Is there a standard definition for Agentic AI? Let me think if I've come across this term before. I remember terms like \"software agents\" or \"AI agents,\" which are programs that act on behalf of a user or to achieve a certain task. Agentic AI might be a broader term encompassing such agents, emphasizing their proactive and adaptive nature. \n",
      "\n",
      "Perhaps the definition would be something like: \"Agentic AI refers to artificial intelligence systems designed to act autonomously, make decisions, and pursue specific goals within their environment, mimicking the behavior of autonomous agents.\" \n",
      "\n",
      "Wait, but maybe it's more specific. I should ensure that I'm not conflating it with other terms. Maybe \"agentic\" here emphasizes the capability to act in an environment to achieve goals, similar to how an agent does in multi-agent systems. \n",
      "\n",
      "Another angle: in some contexts, \"agentic\" could relate to the concept of agency, the capacity to act independently. So Agentic AI would have agency, meaning it can operate on its own, make choices, and take actions without constant human intervention. \n",
      "\n",
      "Putting it all together, the sentence needs to capture that it's AI with autonomous decision-making and goal-directed actions. Let me try to condense that into one sentence without being too vague. \n",
      "\n",
      "How about: \"Agentic AI is a type of artificial intelligence that operates as autonomous agents, capable of making independent decisions and taking actions to achieve specific objectives within their environment.\" \n",
      "\n",
      "Hmm, that's a bit long. Maybe shorter. Let me see if I can make it more concise. \n",
      "\n",
      "\"Agentic AI refers to self-directed AI systems that independently make decisions and pursue goals within their environment.\" \n",
      "\n",
      "Alternatively: \"Agentic AI is AI designed to act autonomously, with decision-making capabilities to achieve predefined goals in an environment.\" \n",
      "\n",
      "I think those are in the ballpark. Let me check if there's an official definition. Since I can't look it up right now, I have to go with my understanding. The key points are autonomy, decision-making, goal-oriented, and acting in an environment. \n",
      "\n",
      "So the final sentence should include all those elements succinctly. Maybe: \"Agentic AI is artificial intelligence that functions as an autonomous agent, capable of making independent decisions and pursuing specific goals within its environment.\" \n",
      "\n",
      "Yes, that seems to cover it. Let me make sure there's no jargon. \"Autonomous agent\" is a known term, so that's good. I think that's a solid one-sentence definition.\n",
      "</think>\n",
      "\n",
      "Agentic AI is artificial intelligence designed to act as autonomous agents, capable of making independent decisions and pursuing specific goals within their environment through adaptive and goal-directed behavior.\n"
     ]
    }
   ],
   "source": [
    "from langchain_groq import ChatGroq\n",
    "\n",
    "llm1 = ChatGroq(model=\"qwen-qwq-32b\")\n",
    "\n",
    "response = llm1.invoke(\"What is Agentic AI in one sentence ?\")\n",
    "\n",
    "print (response.content)"
   ]
  },
  {
   "cell_type": "code",
   "execution_count": 6,
   "id": "b905fee6",
   "metadata": {},
   "outputs": [
    {
     "name": "stdout",
     "output_type": "stream",
     "text": [
      "content='\\n<think>\\nOkay, so I need to figure out what Agentic AI is in one sentence. Let me start by recalling what I know about AI terms. I\\'ve heard terms like \"artificial intelligence,\" \"machine learning,\" \"narrow AI,\" \"general AI,\" maybe \"autonomous systems.\" Agentic AI isn\\'t something I\\'m super familiar with, but the word \"agentic\" makes me think of \"agent.\" So maybe it\\'s related to AI agents?\\n\\nAn \"agent\" in computer science is something that can act independently to some extent, right? Like an autonomous entity that perceives its environment and acts to achieve goals. So Agentic AI might refer to AI systems designed as agents. Maybe they have some level of autonomy, decision-making, and goal-directed behavior. \\n\\nI should check some sources or definitions. Wait, the user is asking for a one-sentence definition, so I need to be concise. The key elements would be autonomy, decision-making, goal-orientation. Maybe also mention that they operate within an environment. \\n\\nIs there a standard definition for Agentic AI? Let me think if I\\'ve come across this term before. I remember terms like \"software agents\" or \"AI agents,\" which are programs that act on behalf of a user or to achieve a certain task. Agentic AI might be a broader term encompassing such agents, emphasizing their proactive and adaptive nature. \\n\\nPerhaps the definition would be something like: \"Agentic AI refers to artificial intelligence systems designed to act autonomously, make decisions, and pursue specific goals within their environment, mimicking the behavior of autonomous agents.\" \\n\\nWait, but maybe it\\'s more specific. I should ensure that I\\'m not conflating it with other terms. Maybe \"agentic\" here emphasizes the capability to act in an environment to achieve goals, similar to how an agent does in multi-agent systems. \\n\\nAnother angle: in some contexts, \"agentic\" could relate to the concept of agency, the capacity to act independently. So Agentic AI would have agency, meaning it can operate on its own, make choices, and take actions without constant human intervention. \\n\\nPutting it all together, the sentence needs to capture that it\\'s AI with autonomous decision-making and goal-directed actions. Let me try to condense that into one sentence without being too vague. \\n\\nHow about: \"Agentic AI is a type of artificial intelligence that operates as autonomous agents, capable of making independent decisions and taking actions to achieve specific objectives within their environment.\" \\n\\nHmm, that\\'s a bit long. Maybe shorter. Let me see if I can make it more concise. \\n\\n\"Agentic AI refers to self-directed AI systems that independently make decisions and pursue goals within their environment.\" \\n\\nAlternatively: \"Agentic AI is AI designed to act autonomously, with decision-making capabilities to achieve predefined goals in an environment.\" \\n\\nI think those are in the ballpark. Let me check if there\\'s an official definition. Since I can\\'t look it up right now, I have to go with my understanding. The key points are autonomy, decision-making, goal-oriented, and acting in an environment. \\n\\nSo the final sentence should include all those elements succinctly. Maybe: \"Agentic AI is artificial intelligence that functions as an autonomous agent, capable of making independent decisions and pursuing specific goals within its environment.\" \\n\\nYes, that seems to cover it. Let me make sure there\\'s no jargon. \"Autonomous agent\" is a known term, so that\\'s good. I think that\\'s a solid one-sentence definition.\\n</think>\\n\\nAgentic AI is artificial intelligence designed to act as autonomous agents, capable of making independent decisions and pursuing specific goals within their environment through adaptive and goal-directed behavior.' additional_kwargs={} response_metadata={'token_usage': {'completion_tokens': 755, 'prompt_tokens': 19, 'total_tokens': 774, 'completion_time': 1.734271282, 'prompt_time': 0.002911136, 'queue_time': 0.258037893, 'total_time': 1.737182418}, 'model_name': 'qwen-qwq-32b', 'system_fingerprint': 'fp_a91d9c2cfb', 'finish_reason': 'stop', 'logprobs': None} id='run--f6e483ff-621e-4b30-8609-e3d00381fa35-0' usage_metadata={'input_tokens': 19, 'output_tokens': 755, 'total_tokens': 774}\n"
     ]
    }
   ],
   "source": [
    "print (response)"
   ]
  },
  {
   "cell_type": "code",
   "execution_count": 7,
   "id": "cdd4e5f4",
   "metadata": {},
   "outputs": [],
   "source": [
    "from langchain_core.prompts import ChatPromptTemplate\n",
    "from langchain_groq import ChatGroq\n",
    "\n",
    "prompt = ChatPromptTemplate.from_messages([\n",
    "    (\"system\", \"You are an expert AI engineer\"),\n",
    "    (\"user\", \"{input}\")\n",
    "])\n",
    "\n",
    "llm = ChatGroq(model=\"qwen-qwq-32b\")"
   ]
  },
  {
   "cell_type": "code",
   "execution_count": 8,
   "id": "3987f637",
   "metadata": {},
   "outputs": [
    {
     "data": {
      "text/plain": [
       "ChatPromptTemplate(input_variables=['input'], input_types={}, partial_variables={}, messages=[SystemMessagePromptTemplate(prompt=PromptTemplate(input_variables=[], input_types={}, partial_variables={}, template='You are an expert AI engineer'), additional_kwargs={}), HumanMessagePromptTemplate(prompt=PromptTemplate(input_variables=['input'], input_types={}, partial_variables={}, template='{input}'), additional_kwargs={})])"
      ]
     },
     "execution_count": 8,
     "metadata": {},
     "output_type": "execute_result"
    }
   ],
   "source": [
    "prompt"
   ]
  },
  {
   "cell_type": "code",
   "execution_count": 9,
   "id": "cd2e36a0",
   "metadata": {},
   "outputs": [
    {
     "data": {
      "text/plain": [
       "ChatGroq(client=<groq.resources.chat.completions.Completions object at 0x0000024493890AF0>, async_client=<groq.resources.chat.completions.AsyncCompletions object at 0x0000024499962230>, model_name='qwen-qwq-32b', model_kwargs={}, groq_api_key=SecretStr('**********'))"
      ]
     },
     "execution_count": 9,
     "metadata": {},
     "output_type": "execute_result"
    }
   ],
   "source": [
    "llm"
   ]
  },
  {
   "cell_type": "code",
   "execution_count": 10,
   "id": "1942517d",
   "metadata": {},
   "outputs": [],
   "source": [
    "chain = prompt | llm"
   ]
  },
  {
   "cell_type": "code",
   "execution_count": 11,
   "id": "323911bc",
   "metadata": {},
   "outputs": [
    {
     "data": {
      "text/plain": [
       "AIMessage(content='\\n<think>\\nOkay, the user is asking, \"What is Gen AI?\" Let me start by breaking down what they might be looking for. The term \"Gen AI\" isn\\'t something I\\'m familiar with off the top of my head. Maybe it\\'s a typo or a less common abbreviation. The user could be referring to \"General AI,\" but that usually means artificial general intelligence, which is different from what I know about Gen AI. Alternatively, maybe it\\'s a specific project or technology I\\'m not up-to-date on.\\n\\nLet me think of possible expansions. \"Gen\" could stand for \"Generative,\" so perhaps they\\'re asking about Generative AI? That\\'s a common term referring to AI systems that create new content like text, images, or music. But the user specifically wrote \"Gen AI\" with a space, so maybe it\\'s an acronym. Alternatively, it could be a typo for \"GenAI,\" which is sometimes used as an abbreviation for Generative AI in recent discussions. \\n\\nAnother angle: Maybe Gen AI refers to a specific initiative or framework. Companies sometimes use such terms in their branding. For example, Google has Gemini, but that\\'s different. Alternatively, Gen AI might be part of a series of models like Gen1, Gen2, etc. Wait, Microsoft\\'s Gemini series? No, that\\'s Gemini as well. Hmm.\\n\\nAlternatively, considering recent trends, the term \"Gen AI\" might be a shorthand for \"General AI\" in some contexts. But General AI typically refers to human-level AI, which is still theoretical. The user might be confused between that and the current state of AI like LLMs, which are specialized (narrow AI).\\n\\nTo cover bases, I should explain both possibilities. First, assume it\\'s Generative AI and explain that. Then mention the possibility of General AI as a different concept. Also, check if there\\'s a known project or framework with that exact name.\\n\\nWait, I recall that in some Microsoft documentation or recent articles, they use \"Gen AI\" to refer to their generative AI systems. For instance, in their Azure services, they might have a Gen AI product line. Let me confirm that. Yes, Microsoft Azure has a Gen AI Studio for building generative AI applications. So that\\'s probably the context here. The user might be referring to Microsoft\\'s Gen AI products or the general concept of generative AI, abbreviated as Gen AI.\\n\\nTherefore, the best approach is to explain that Gen AI commonly refers to Generative AI, define it, explain its applications, and mention specific examples like Microsoft\\'s Gen AI tools. Also, clarify that sometimes it might be confused with General AI, but the primary meaning is generative. That way, the user gets a comprehensive answer covering possible interpretations and the most likely one they\\'re asking about.\\n</think>\\n\\n\"Gen AI\" is commonly understood as **Generative Artificial Intelligence**, a subset of artificial intelligence (AI) focused on **creating new, original content** such as text, images, audio, video, or other data. It represents a transformative branch of AI that leverages advanced algorithms—like neural networks and large language models (LLMs)—to generate outputs that are novel, coherent, and contextually relevant.\\n\\n### Key Features of Gen AI:\\n1. **Generative Capabilities**:  \\n   - Produces entirely new content rather than just analyzing or classifying existing data.  \\n   - Examples include writing stories, creating art, composing music, designing 3D models, or even crafting code.  \\n\\n2. **Training Data**:  \\n   - Trained on vast datasets to learn patterns, styles, and structures, enabling it to mimic or innovate based on that input.  \\n\\n3. **Applications**:  \\n   - **Text**: Chatbots (e.g., Qwen, ChatGPT), content creation (e.g., articles, scripts).  \\n   - **Images/Art**: Tools like DALL-E, MidJourney, or Stable Diffusion.  \\n   - **Audio/Video**: Voice synthesis (e.g., AI voices for virtual assistants), video generation.  \\n   - **Code/Software**: Tools like GitHub Copilot for coding assistance.  \\n\\n---\\n\\n### Common Misinterpretations:\\n- **\"General AI\" (AGI)**:  \\n  This refers to **Artificial General Intelligence**, a hypothetical AI system with human-like cognitive abilities to perform *any intellectual task*. This is distinct from Gen AI and remains theoretical, as current AI is mostly **narrow or specialized** (e.g., ChatGPT can write poems but can’t perform surgery).  \\n\\n- **Microsoft\\'s \"Gen AI\" Branding**:  \\n  Microsoft uses \"Gen AI\" in products like **Azure Gen AI Studio**, a platform for building generative AI applications. This aligns with the broader concept of Generative AI tools.  \\n\\n---\\n\\n### How Gen AI Works:  \\n1. **Learning Phase**:  \\n   - Trained on massive datasets (e.g., books, images) to recognize patterns and relationships.  \\n\\n2. **Generation Phase**:  \\n   - Uses inputs (prompts, keywords, or partial examples) to generate outputs by predicting the most likely next elements (words, pixels, etc.).  \\n\\n3. **Customization**:  \\n   - Can be fine-tuned for specific tasks (e.g., medical imaging analysis, legal document drafting).  \\n\\n---\\n\\n### Examples of Gen AI Tools:\\n- **Text**: Qwen, ChatGPT, Bard, Claude.  \\n- **Images/Art**: DALL-E 3, MidJourney, Stable Diffusion.  \\n- **Code**: GitHub Copilot, Amazon CodeWhisperer.  \\n- **Multimodal**: Microsoft’s Qwen-VL (text + images), Google’s Gemini.  \\n\\n---\\n\\n### Challenges and Considerations:  \\n- **Bias and Ethics**: Outputs can reflect biases in training data or be used maliciously (e.g., deepfakes, disinformation).  \\n- **Quality Control**: Generated content may need human oversight for accuracy and relevance.  \\n- **Computational Costs**: Training large generative models requires significant computational resources.  \\n\\n---\\n\\n### Why Gen AI Matters:  \\n- **Creativity & Efficiency**: Automates content creation, enabling businesses to produce personalized content at scale.  \\n- **Accessibility**: Democratizes tools for artists, developers, and non-experts to leverage AI for innovation.  \\n\\nIf you encountered \"Gen AI\" in a specific context (e.g., a company’s product), it might refer to a branded solution, but the term generally points to **Generative AI** as defined above. Let me know if you\\'d like deeper insights into a particular aspect!', additional_kwargs={}, response_metadata={'token_usage': {'completion_tokens': 1349, 'prompt_tokens': 26, 'total_tokens': 1375, 'completion_time': 3.28008473, 'prompt_time': 0.003551396, 'queue_time': 0.248066233, 'total_time': 3.283636126}, 'model_name': 'qwen-qwq-32b', 'system_fingerprint': 'fp_1e88ca32eb', 'finish_reason': 'stop', 'logprobs': None}, id='run--7d7eba30-5ba3-4483-bc2e-ebaa51cf462d-0', usage_metadata={'input_tokens': 26, 'output_tokens': 1349, 'total_tokens': 1375})"
      ]
     },
     "execution_count": 11,
     "metadata": {},
     "output_type": "execute_result"
    }
   ],
   "source": [
    "chain.invoke({\"input\": \"What is Gen AI ?\"})"
   ]
  },
  {
   "cell_type": "code",
   "execution_count": 12,
   "id": "23f18d8e",
   "metadata": {},
   "outputs": [],
   "source": [
    "from langchain_core.output_parsers import StrOutputParser"
   ]
  },
  {
   "cell_type": "code",
   "execution_count": 13,
   "id": "28276a20",
   "metadata": {},
   "outputs": [],
   "source": [
    "str_output_parser = StrOutputParser()"
   ]
  },
  {
   "cell_type": "code",
   "execution_count": 14,
   "id": "a21d5445",
   "metadata": {},
   "outputs": [],
   "source": [
    "chain = prompt | llm | str_output_parser\n",
    "\n",
    "output = chain.invoke({\"input\": \"What is AI ?\"})"
   ]
  },
  {
   "cell_type": "code",
   "execution_count": 15,
   "id": "04b882d9",
   "metadata": {},
   "outputs": [
    {
     "data": {
      "text/plain": [
       "'\\n<think>\\nOkay, the user is asking, \"What is AI?\" Let me start by breaking down the basic definition. AI stands for Artificial Intelligence. I should explain that it\\'s a branch of computer science. But I need to make sure to go beyond just the acronym.\\n\\nHmm, maybe I should mention that AI involves creating systems that can perform tasks that typically require human intelligence. But wait, what are those tasks? Like problem-solving, learning, perception, reasoning... yeah, those examples would help clarify.\\n\\nI should also touch on the two main types of AI: narrow (or weak) AI and general (or strong) AI. Narrow AI is what we see today, like voice assistants or recommendation systems. General AI is still theoretical, right? It\\'s about machines that can handle any intellectual task a human can. Important to note that general AI isn\\'t here yet.\\n\\nOh, and applications. The user might want to know real-world uses. Mention things like healthcare, autonomous vehicles, customer service chatbots, etc. Maybe also include how it\\'s used in industries like finance or manufacturing.\\n\\nWait, the user might not know about the techniques behind AI. Should I explain machine learning, deep learning? Maybe briefly. Like, machine learning is a subset where systems learn from data, and deep learning uses neural networks. That adds depth without getting too technical.\\n\\nAlso, address the goals of AI: to create systems that can learn, adapt, and perform tasks autonomously. Maybe mention ethical considerations? Like bias in algorithms or job displacement. But since the question is about what AI is, maybe that\\'s a bit beyond the scope unless the user asks more.\\n\\nHmm, should I structure it in sections? Like definition, types, techniques, applications? But since the user just wants a straightforward answer, a paragraph might be better. Keep it concise but informative.\\n\\nWait, the user might be a beginner, so avoiding jargon is key. But since they\\'re asking for an expert, maybe a bit more detail is okay. Need to balance simplicity and thoroughness.\\n\\nAlso, mention some examples they might be familiar with, like Siri, Google Assistant, recommendation algorithms on Netflix. That helps ground the concept.\\n\\nI should also touch on the history briefly, like how AI started in the 1950s. But maybe that\\'s optional. The core is the present-day understanding.\\n\\nLet me check if there\\'s anything else. Maybe the difference between AI and related fields like machine learning. Clarify that AI is the broader concept.\\n\\nOkay, putting it all together: start with a simple definition, explain what it does, types of AI, key techniques, applications, and maybe a note on current state. Keep it clear and not too long. Make sure it\\'s understandable without prior knowledge but still accurate for an expert\\'s perspective.\\n</think>\\n\\nArtificial Intelligence (AI) refers to the simulation of human intelligence in machines that are programmed to think and learn like humans. It is a branch of computer science focused on developing systems capable of performing tasks that typically require human cognition, such as **learning** (acquiring information and skills), **reasoning** (drawing conclusions), **problem-solving**, **perception** (interpreting data from sensors, e.g., visual or auditory), and even creative tasks like generating text, art, or music.\\n\\n### Key Aspects of AI:\\n1. **Types of AI**:\\n   - **Narrow (Weak) AI**: Designed for specific tasks. Examples include:\\n     - Voice assistants (e.g., Siri, Alexa),\\n     - Recommendation systems (e.g., Netflix, Amazon),\\n     - Image recognition in apps like Google Photos.\\n   - **General (Strong) AI**: Hypothetical systems that can understand, learn, and apply knowledge across *any* task, replicating or surpassing human intelligence. This remains theoretical, as it does not yet exist.\\n\\n2. **Core Techniques**:\\n   - **Machine Learning (ML)**: A subset of AI where systems analyze data to learn patterns and make decisions without explicit programming. Examples include spam filters or predictive analytics.\\n   - **Deep Learning**: A type of ML using artificial neural networks (inspired by the human brain) to model complex patterns. Used in applications like self-driving cars or facial recognition.\\n   - **Natural Language Processing (NLP)**: Enables machines to understand, interpret, and generate human language, as seen in chatbots or language translation tools.\\n\\n3. **Applications**:\\n   - **Healthcare**: Diagnosing diseases, drug discovery, and personalized treatment plans.\\n   - **Autonomous Systems**: Self-driving cars (e.g., Tesla Autopilot).\\n   - **Finance**: Fraud detection, algorithmic trading, and credit scoring.\\n   - **Manufacturing**: Process automation, predictive maintenance of equipment.\\n   - **Entertainment**: Content creation, video game AI opponents, and personalized recommendations.\\n\\n4. **Goals**:\\n   - Automate repetitive tasks.\\n   - Augment human decision-making with data-driven insights.\\n   - Solve complex problems at scale (e.g., climate modeling, logistics).\\n   - Develop systems that improve performance over time through experience (adaptive learning).\\n\\n### Current State & Challenges:\\n- **Progress**: Narrow AI is widely integrated into daily life, driving advancements in technology, business, and science.\\n- **Limitations**: General AI remains elusive. Challenges include:\\n  - **Ethical concerns** (bias, privacy, job displacement),\\n  - **Explainability** (understanding how AI systems make decisions),\\n  - **Generalization** (AI systems often struggle with tasks outside their training data).\\n\\nIn essence, AI is not a single technology but a field spanning algorithms, data, and computing power, aiming to mimic and enhance human intelligence in machines. Its impact continues to grow, reshaping industries and sparking debates about its societal implications.'"
      ]
     },
     "execution_count": 15,
     "metadata": {},
     "output_type": "execute_result"
    }
   ],
   "source": [
    "output"
   ]
  },
  {
   "cell_type": "code",
   "execution_count": 32,
   "id": "49dc4271",
   "metadata": {},
   "outputs": [],
   "source": [
    "from langchain_core.output_parsers import JsonOutputParser\n",
    "from langchain_core.prompts import PromptTemplate"
   ]
  },
  {
   "cell_type": "code",
   "execution_count": 33,
   "id": "38a4f0b0",
   "metadata": {},
   "outputs": [],
   "source": [
    "json_output_parser = JsonOutputParser()"
   ]
  },
  {
   "cell_type": "code",
   "execution_count": 38,
   "id": "8ac396d3",
   "metadata": {},
   "outputs": [],
   "source": [
    "prompt = PromptTemplate(\n",
    "    template = \"Answer user query \\n {format_instructions} \\n {query}\",\n",
    "    input_variables = [\"query\"],\n",
    "    partial_variables = {\"format_instructions\": json_output_parser.get_format_instructions()},\n",
    ")"
   ]
  },
  {
   "cell_type": "code",
   "execution_count": 40,
   "id": "a2b25df2",
   "metadata": {},
   "outputs": [],
   "source": [
    "model=ChatGroq(model=\"gemma2-9b-it\")"
   ]
  },
  {
   "cell_type": "code",
   "execution_count": 41,
   "id": "649ffd30",
   "metadata": {},
   "outputs": [],
   "source": [
    "chain = prompt | model | json_output_parser\n",
    "\n",
    "output = chain.invoke({\"query\": \"What is AI ?\"})"
   ]
  },
  {
   "cell_type": "code",
   "execution_count": 42,
   "id": "93164d9c",
   "metadata": {},
   "outputs": [
    {
     "data": {
      "text/plain": [
       "{'definition': 'Artificial intelligence (AI) is the simulation of human intelligence processes by machines, especially computer systems. These processes include learning (acquiring information and rules for using the information), reasoning (using rules to reach approximate or definite conclusions) and self-correction.',\n",
       " 'examples': ['Self-driving cars',\n",
       "  'Virtual assistants like Siri or Alexa',\n",
       "  'Recommendation systems on streaming platforms',\n",
       "  'Fraud detection systems',\n",
       "  'Medical diagnosis tools'],\n",
       " 'types': ['Machine learning',\n",
       "  'Deep learning',\n",
       "  'Natural language processing',\n",
       "  'Computer vision']}"
      ]
     },
     "execution_count": 42,
     "metadata": {},
     "output_type": "execute_result"
    }
   ],
   "source": [
    "output"
   ]
  },
  {
   "cell_type": "code",
   "execution_count": 45,
   "id": "238784a0",
   "metadata": {},
   "outputs": [
    {
     "data": {
      "text/plain": [
       "'Artificial intelligence (AI) is the simulation of human intelligence processes by machines, especially computer systems. These processes include learning (acquiring information and rules for using the information), reasoning (using rules to reach approximate or definite conclusions) and self-correction.'"
      ]
     },
     "execution_count": 45,
     "metadata": {},
     "output_type": "execute_result"
    }
   ],
   "source": [
    "output[\"definition\"]"
   ]
  },
  {
   "cell_type": "code",
   "execution_count": 46,
   "id": "7b3572b3",
   "metadata": {},
   "outputs": [
    {
     "data": {
      "text/plain": [
       "['Machine learning',\n",
       " 'Deep learning',\n",
       " 'Natural language processing',\n",
       " 'Computer vision']"
      ]
     },
     "execution_count": 46,
     "metadata": {},
     "output_type": "execute_result"
    }
   ],
   "source": [
    "output[\"types\"]"
   ]
  },
  {
   "cell_type": "code",
   "execution_count": 66,
   "id": "81bd1a82",
   "metadata": {},
   "outputs": [],
   "source": [
    "chat_prompt = ChatPromptTemplate.from_messages(\n",
    "    [\n",
    "        (\"system\", \"You are a daddy kind of joke teller. Generate the Response in JSON format only.\"),\n",
    "        (\"user\", \"{query}\")\n",
    "    ]\n",
    ")\n",
    "\n",
    "chain = chat_prompt | model | json_output_parser\n",
    "\n",
    "output = chain.invoke({\"query\": \"Tell me a joke about AI.\"})"
   ]
  },
  {
   "cell_type": "code",
   "execution_count": 67,
   "id": "48425145",
   "metadata": {},
   "outputs": [
    {
     "data": {
      "text/plain": [
       "{'joke': 'Why did the AI cross the road?  To prove to the chicken it could be done!'}"
      ]
     },
     "execution_count": 67,
     "metadata": {},
     "output_type": "execute_result"
    }
   ],
   "source": [
    "output"
   ]
  },
  {
   "cell_type": "code",
   "execution_count": 75,
   "id": "a02cffec",
   "metadata": {},
   "outputs": [],
   "source": [
    "from langchain_core.output_parsers import XMLOutputParser\n",
    "\n",
    "xml_output_parser = XMLOutputParser()\n",
    "\n",
    "chat_prompt = ChatPromptTemplate.from_messages(\n",
    "    [\n",
    "        (\"system\", \"You are a joke teller. Generate the Response in XML format only like this <output><response>content</response></output>.\"),\n",
    "        (\"user\", \"{query}\")\n",
    "    ]\n",
    ")\n",
    "\n",
    "chain = chat_prompt | model\n",
    "\n",
    "output = chain.invoke({\"query\": \"Tell me a joke about AI.\"})"
   ]
  },
  {
   "cell_type": "code",
   "execution_count": 76,
   "id": "164f43d9",
   "metadata": {},
   "outputs": [
    {
     "data": {
      "text/plain": [
       "'<output>\\n<response>Why was the AI so good at poker? \\nBecause it had a neural network!</response>\\n</output> \\n'"
      ]
     },
     "execution_count": 76,
     "metadata": {},
     "output_type": "execute_result"
    }
   ],
   "source": [
    "output.content"
   ]
  },
  {
   "cell_type": "markdown",
   "id": "e91a61c0",
   "metadata": {},
   "source": [
    "### PyDantic"
   ]
  },
  {
   "cell_type": "code",
   "execution_count": 87,
   "id": "b5d0388c",
   "metadata": {},
   "outputs": [
    {
     "name": "stdout",
     "output_type": "stream",
     "text": [
      "format_instructions = The output should be formatted as a JSON instance that conforms to the JSON schema below.\n",
      "\n",
      "As an example, for the schema {\"properties\": {\"foo\": {\"title\": \"Foo\", \"description\": \"a list of strings\", \"type\": \"array\", \"items\": {\"type\": \"string\"}}}, \"required\": [\"foo\"]}\n",
      "the object {\"foo\": [\"bar\", \"baz\"]} is a well-formatted instance of the schema. The object {\"properties\": {\"foo\": [\"bar\", \"baz\"]}} is not well-formatted.\n",
      "\n",
      "Here is the output schema:\n",
      "```\n",
      "{\"properties\": {\"setup\": {\"description\": \"question for joke\", \"title\": \"Setup\", \"type\": \"string\"}, \"punch\": {\"description\": \"answer for joke\", \"title\": \"Punch\", \"type\": \"string\"}}, \"required\": [\"setup\", \"punch\"]}\n",
      "```\n"
     ]
    }
   ],
   "source": [
    "# JsonOutputParser\n",
    "\n",
    "from pydantic import BaseModel, Field\n",
    "\n",
    "from langchain_core.prompts import PromptTemplate\n",
    "from langchain_groq import ChatGroq\n",
    "from langchain_core.output_parsers import JsonOutputParser\n",
    "\n",
    "class Joke(BaseModel):\n",
    "    setup: str = Field(description=\"question for joke\")\n",
    "    punch: str = Field(description=\"answer for joke\") \n",
    "\n",
    "query = \"Tell me a joke about computer\"\n",
    "\n",
    "parser = JsonOutputParser(pydantic_object = Joke)\n",
    "\n",
    "print (f\"format_instructions = {parser.get_format_instructions()}\")\n",
    "\n",
    "llm = ChatGroq(model=\"llama3-70b-8192\")\n",
    "\n",
    "prompt = PromptTemplate(\n",
    "    template=\"Answer the user query \\n {format_instructions} \\n {query}\",\n",
    "    input_variables=[\"query\"],\n",
    "    partial_variables={\"format_instructions\": parser.get_format_instructions()}\n",
    ")\n",
    "\n",
    "chain = prompt | llm | parser\n",
    "\n",
    "result = chain.invoke({\"query\": query})\n",
    "\n"
   ]
  },
  {
   "cell_type": "code",
   "execution_count": 89,
   "id": "7a3d8719",
   "metadata": {},
   "outputs": [
    {
     "data": {
      "text/plain": [
       "PromptTemplate(input_variables=['query'], input_types={}, partial_variables={'format_instructions': 'The output should be formatted as a JSON instance that conforms to the JSON schema below.\\n\\nAs an example, for the schema {\"properties\": {\"foo\": {\"title\": \"Foo\", \"description\": \"a list of strings\", \"type\": \"array\", \"items\": {\"type\": \"string\"}}}, \"required\": [\"foo\"]}\\nthe object {\"foo\": [\"bar\", \"baz\"]} is a well-formatted instance of the schema. The object {\"properties\": {\"foo\": [\"bar\", \"baz\"]}} is not well-formatted.\\n\\nHere is the output schema:\\n```\\n{\"properties\": {\"setup\": {\"description\": \"question for joke\", \"title\": \"Setup\", \"type\": \"string\"}, \"punch\": {\"description\": \"answer for joke\", \"title\": \"Punch\", \"type\": \"string\"}}, \"required\": [\"setup\", \"punch\"]}\\n```'}, template='Answer the user query \\n {format_instructions} \\n {query}')"
      ]
     },
     "execution_count": 89,
     "metadata": {},
     "output_type": "execute_result"
    }
   ],
   "source": [
    "prompt"
   ]
  },
  {
   "cell_type": "code",
   "execution_count": 88,
   "id": "3eede3b3",
   "metadata": {},
   "outputs": [
    {
     "data": {
      "text/plain": [
       "{'setup': 'Why do computers go to the doctor?', 'punch': 'They have a virus!'}"
      ]
     },
     "execution_count": 88,
     "metadata": {},
     "output_type": "execute_result"
    }
   ],
   "source": [
    "result"
   ]
  },
  {
   "cell_type": "code",
   "execution_count": 91,
   "id": "8264c09d",
   "metadata": {},
   "outputs": [
    {
     "name": "stdout",
     "output_type": "stream",
     "text": [
      "format_instructions = The output should be formatted as a YAML instance that conforms to the given JSON schema below.\n",
      "\n",
      "# Examples\n",
      "## Schema\n",
      "```\n",
      "{\"title\": \"Players\", \"description\": \"A list of players\", \"type\": \"array\", \"items\": {\"$ref\": \"#/definitions/Player\"}, \"definitions\": {\"Player\": {\"title\": \"Player\", \"type\": \"object\", \"properties\": {\"name\": {\"title\": \"Name\", \"description\": \"Player name\", \"type\": \"string\"}, \"avg\": {\"title\": \"Avg\", \"description\": \"Batting average\", \"type\": \"number\"}}, \"required\": [\"name\", \"avg\"]}}}\n",
      "```\n",
      "## Well formatted instance\n",
      "```\n",
      "- name: John Doe\n",
      "  avg: 0.3\n",
      "- name: Jane Maxfield\n",
      "  avg: 1.4\n",
      "```\n",
      "\n",
      "## Schema\n",
      "```\n",
      "{\"properties\": {\"habit\": { \"description\": \"A common daily habit\", \"type\": \"string\" }, \"sustainable_alternative\": { \"description\": \"An environmentally friendly alternative to the habit\", \"type\": \"string\"}}, \"required\": [\"habit\", \"sustainable_alternative\"]}\n",
      "```\n",
      "## Well formatted instance\n",
      "```\n",
      "habit: Using disposable water bottles for daily hydration.\n",
      "sustainable_alternative: Switch to a reusable water bottle to reduce plastic waste and decrease your environmental footprint.\n",
      "``` \n",
      "\n",
      "Please follow the standard YAML formatting conventions with an indent of 2 spaces and make sure that the data types adhere strictly to the following JSON schema: \n",
      "```\n",
      "{\"properties\": {\"setup\": {\"description\": \"question for joke\", \"title\": \"Setup\", \"type\": \"string\"}, \"punch\": {\"description\": \"answer for joke\", \"title\": \"Punch\", \"type\": \"string\"}}, \"required\": [\"setup\", \"punch\"]}\n",
      "```\n",
      "\n",
      "Make sure to always enclose the YAML output in triple backticks (```). Please do not add anything other than valid YAML output!\n"
     ]
    }
   ],
   "source": [
    "# YamlOutputParser\n",
    "\n",
    "from pydantic import BaseModel, Field\n",
    "\n",
    "from langchain_core.prompts import PromptTemplate\n",
    "from langchain_groq import ChatGroq\n",
    "from langchain.output_parsers import YamlOutputParser\n",
    "\n",
    "class Joke(BaseModel):\n",
    "    setup: str = Field(description=\"question for joke\")\n",
    "    punch: str = Field(description=\"answer for joke\") \n",
    "\n",
    "query = \"Tell me a joke about computer\"\n",
    "\n",
    "parser = YamlOutputParser(pydantic_object = Joke)\n",
    "\n",
    "print (f\"format_instructions = {parser.get_format_instructions()}\")\n",
    "\n",
    "llm = ChatGroq(model=\"llama3-70b-8192\")\n",
    "\n",
    "prompt = PromptTemplate(\n",
    "    template=\"Answer the user query \\n {format_instructions} \\n {query}\",\n",
    "    input_variables=[\"query\"],\n",
    "    partial_variables={\"format_instructions\": parser.get_format_instructions()}\n",
    ")\n",
    "\n",
    "chain = prompt | llm | parser\n",
    "\n",
    "result = chain.invoke({\"query\": query})\n",
    "\n"
   ]
  },
  {
   "cell_type": "code",
   "execution_count": 92,
   "id": "c6d27614",
   "metadata": {},
   "outputs": [
    {
     "data": {
      "text/plain": [
       "PromptTemplate(input_variables=['query'], input_types={}, partial_variables={'format_instructions': 'The output should be formatted as a YAML instance that conforms to the given JSON schema below.\\n\\n# Examples\\n## Schema\\n```\\n{\"title\": \"Players\", \"description\": \"A list of players\", \"type\": \"array\", \"items\": {\"$ref\": \"#/definitions/Player\"}, \"definitions\": {\"Player\": {\"title\": \"Player\", \"type\": \"object\", \"properties\": {\"name\": {\"title\": \"Name\", \"description\": \"Player name\", \"type\": \"string\"}, \"avg\": {\"title\": \"Avg\", \"description\": \"Batting average\", \"type\": \"number\"}}, \"required\": [\"name\", \"avg\"]}}}\\n```\\n## Well formatted instance\\n```\\n- name: John Doe\\n  avg: 0.3\\n- name: Jane Maxfield\\n  avg: 1.4\\n```\\n\\n## Schema\\n```\\n{\"properties\": {\"habit\": { \"description\": \"A common daily habit\", \"type\": \"string\" }, \"sustainable_alternative\": { \"description\": \"An environmentally friendly alternative to the habit\", \"type\": \"string\"}}, \"required\": [\"habit\", \"sustainable_alternative\"]}\\n```\\n## Well formatted instance\\n```\\nhabit: Using disposable water bottles for daily hydration.\\nsustainable_alternative: Switch to a reusable water bottle to reduce plastic waste and decrease your environmental footprint.\\n``` \\n\\nPlease follow the standard YAML formatting conventions with an indent of 2 spaces and make sure that the data types adhere strictly to the following JSON schema: \\n```\\n{\"properties\": {\"setup\": {\"description\": \"question for joke\", \"title\": \"Setup\", \"type\": \"string\"}, \"punch\": {\"description\": \"answer for joke\", \"title\": \"Punch\", \"type\": \"string\"}}, \"required\": [\"setup\", \"punch\"]}\\n```\\n\\nMake sure to always enclose the YAML output in triple backticks (```). Please do not add anything other than valid YAML output!'}, template='Answer the user query \\n {format_instructions} \\n {query}')"
      ]
     },
     "execution_count": 92,
     "metadata": {},
     "output_type": "execute_result"
    }
   ],
   "source": [
    "prompt"
   ]
  },
  {
   "cell_type": "code",
   "execution_count": 93,
   "id": "2016ca97",
   "metadata": {},
   "outputs": [
    {
     "data": {
      "text/plain": [
       "Joke(setup='Why do computers go to therapy?', punch='They have a little glitch.')"
      ]
     },
     "execution_count": 93,
     "metadata": {},
     "output_type": "execute_result"
    }
   ],
   "source": [
    "result"
   ]
  }
 ],
 "metadata": {
  "kernelspec": {
   "display_name": "cv_collection_review_rnd",
   "language": "python",
   "name": "python3"
  },
  "language_info": {
   "codemirror_mode": {
    "name": "ipython",
    "version": 3
   },
   "file_extension": ".py",
   "mimetype": "text/x-python",
   "name": "python",
   "nbconvert_exporter": "python",
   "pygments_lexer": "ipython3",
   "version": "3.10.16"
  }
 },
 "nbformat": 4,
 "nbformat_minor": 5
}
