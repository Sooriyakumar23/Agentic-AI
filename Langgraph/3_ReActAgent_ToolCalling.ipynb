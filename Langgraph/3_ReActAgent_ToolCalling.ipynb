{
 "cells": [
  {
   "cell_type": "code",
   "execution_count": 2,
   "id": "57f675d0",
   "metadata": {},
   "outputs": [],
   "source": [
    "import os\n",
    "from dotenv import load_dotenv"
   ]
  },
  {
   "cell_type": "code",
   "execution_count": 3,
   "id": "46f0f03e",
   "metadata": {},
   "outputs": [
    {
     "data": {
      "text/plain": [
       "True"
      ]
     },
     "execution_count": 3,
     "metadata": {},
     "output_type": "execute_result"
    }
   ],
   "source": [
    "load_dotenv()"
   ]
  },
  {
   "cell_type": "code",
   "execution_count": 4,
   "id": "6ccfe50f",
   "metadata": {},
   "outputs": [],
   "source": [
    "os.environ[\"GROQ_API_KEY\"] = os.getenv(\"GROQ_API_KEY\")"
   ]
  },
  {
   "cell_type": "markdown",
   "id": "b299ab53",
   "metadata": {},
   "source": [
    "Load LLM Model"
   ]
  },
  {
   "cell_type": "code",
   "execution_count": 7,
   "id": "57f129b2",
   "metadata": {},
   "outputs": [],
   "source": [
    "from langchain_groq import ChatGroq"
   ]
  },
  {
   "cell_type": "code",
   "execution_count": 8,
   "id": "bfe087c1",
   "metadata": {},
   "outputs": [],
   "source": [
    "model_name = \"deepseek-r1-distill-llama-70b\""
   ]
  },
  {
   "cell_type": "code",
   "execution_count": 9,
   "id": "ada71620",
   "metadata": {},
   "outputs": [],
   "source": [
    "llm = ChatGroq(model_name = model_name)"
   ]
  },
  {
   "cell_type": "code",
   "execution_count": 10,
   "id": "ed8a4dba",
   "metadata": {},
   "outputs": [
    {
     "data": {
      "text/plain": [
       "AIMessage(content='<think>\\n\\n</think>\\n\\nHello! How can I assist you today?', additional_kwargs={}, response_metadata={'token_usage': {'completion_tokens': 14, 'prompt_tokens': 4, 'total_tokens': 18, 'completion_time': 0.081685272, 'prompt_time': 6.8269e-05, 'queue_time': 0.217946921, 'total_time': 0.081753541}, 'model_name': 'deepseek-r1-distill-llama-70b', 'system_fingerprint': 'fp_1bbe7845ec', 'finish_reason': 'stop', 'logprobs': None}, id='run--c00a98ab-bf0b-4889-af00-c8e868db345a-0', usage_metadata={'input_tokens': 4, 'output_tokens': 14, 'total_tokens': 18})"
      ]
     },
     "execution_count": 10,
     "metadata": {},
     "output_type": "execute_result"
    }
   ],
   "source": [
    "llm.invoke(\"hi\")"
   ]
  },
  {
   "cell_type": "code",
   "execution_count": 12,
   "id": "9a530b3f",
   "metadata": {},
   "outputs": [
    {
     "name": "stdout",
     "output_type": "stream",
     "text": [
      "<think>\n",
      "\n",
      "</think>\n",
      "\n",
      "Hello! How can I assist you today? 😊\n"
     ]
    }
   ],
   "source": [
    "print (llm.invoke(\"hi\").content)"
   ]
  },
  {
   "cell_type": "code",
   "execution_count": 15,
   "id": "df852030",
   "metadata": {},
   "outputs": [],
   "source": [
    "from langchain_core.tools import tool\n",
    "from langgraph.graph import StateGraph, MessagesState, START, END\n",
    "from langgraph.prebuilt import ToolNode"
   ]
  },
  {
   "cell_type": "code",
   "execution_count": 16,
   "id": "e2f8e7b3",
   "metadata": {},
   "outputs": [],
   "source": [
    "def call_llm(state: MessagesState):\n",
    "    messages = state[\"messages\"]\n",
    "    response = llm.invoke(messages)\n",
    "    return {\"messages\": [response]}"
   ]
  },
  {
   "cell_type": "code",
   "execution_count": 19,
   "id": "f35872cb",
   "metadata": {},
   "outputs": [
    {
     "data": {
      "text/plain": [
       "{'messages': [AIMessage(content=\"<think>\\n\\n</think>\\n\\nHello! I'm just a virtual assistant, so I don't have feelings, but I'm here and ready to help you with whatever you need. How are you doing? 😊\", additional_kwargs={}, response_metadata={'token_usage': {'completion_tokens': 42, 'prompt_tokens': 9, 'total_tokens': 51, 'completion_time': 0.204197574, 'prompt_time': 0.000199166, 'queue_time': 0.217990691, 'total_time': 0.20439674}, 'model_name': 'deepseek-r1-distill-llama-70b', 'system_fingerprint': 'fp_1bbe7845ec', 'finish_reason': 'stop', 'logprobs': None}, id='run--ac1b7a6f-272d-4e91-b16e-8bdac12fdf9c-0', usage_metadata={'input_tokens': 9, 'output_tokens': 42, 'total_tokens': 51})]}"
      ]
     },
     "execution_count": 19,
     "metadata": {},
     "output_type": "execute_result"
    }
   ],
   "source": [
    "state={\"messages\":[\"hi hello how are you?\"]}\n",
    "call_llm(state)"
   ]
  },
  {
   "cell_type": "markdown",
   "id": "f0e3f722",
   "metadata": {},
   "source": [
    "Simple Workflow without Tool calling"
   ]
  },
  {
   "cell_type": "code",
   "execution_count": 20,
   "id": "a5bb4861",
   "metadata": {},
   "outputs": [],
   "source": [
    "workflow1 = StateGraph(MessagesState)"
   ]
  },
  {
   "cell_type": "code",
   "execution_count": 21,
   "id": "6912c7a8",
   "metadata": {},
   "outputs": [
    {
     "data": {
      "text/plain": [
       "<langgraph.graph.state.StateGraph at 0x1ccee84dbd0>"
      ]
     },
     "execution_count": 21,
     "metadata": {},
     "output_type": "execute_result"
    }
   ],
   "source": [
    "workflow1.add_node(\"my_bot\", call_llm)\n",
    "workflow1.add_edge(START, \"my_bot\")\n",
    "workflow1.add_edge(\"my_bot\", END)"
   ]
  },
  {
   "cell_type": "code",
   "execution_count": 22,
   "id": "c89d0b91",
   "metadata": {},
   "outputs": [],
   "source": [
    "app1 = workflow1.compile()"
   ]
  },
  {
   "cell_type": "code",
   "execution_count": 23,
   "id": "7661edbf",
   "metadata": {},
   "outputs": [
    {
     "data": {
      "image/png": "[encoded data removed]",
      "text/plain": [
       "<IPython.core.display.Image object>"
      ]
     },
     "metadata": {},
     "output_type": "display_data"
    }
   ],
   "source": [
    "from IPython.display import Image, display\n",
    "display(Image(app1.get_graph().draw_mermaid_png()))"
   ]
  },
  {
   "cell_type": "code",
   "execution_count": 24,
   "id": "215ef470",
   "metadata": {},
   "outputs": [],
   "source": [
    "input={\"messages\":[\"hi hello how are you?\"]}"
   ]
  },
  {
   "cell_type": "code",
   "execution_count": 25,
   "id": "9037b511",
   "metadata": {},
   "outputs": [
    {
     "data": {
      "text/plain": [
       "{'messages': [HumanMessage(content='hi hello how are you?', additional_kwargs={}, response_metadata={}, id='b4b60972-3e17-41b7-9d04-299c23d2b361'),\n",
       "  AIMessage(content=\"<think>\\n\\n</think>\\n\\nHello! I'm just a virtual assistant, so I don't have feelings, but I'm here and ready to help you. How are you doing? 😊\", additional_kwargs={}, response_metadata={'token_usage': {'completion_tokens': 38, 'prompt_tokens': 9, 'total_tokens': 47, 'completion_time': 0.180170923, 'prompt_time': 0.000190776, 'queue_time': 0.22126034, 'total_time': 0.180361699}, 'model_name': 'deepseek-r1-distill-llama-70b', 'system_fingerprint': 'fp_1bbe7845ec', 'finish_reason': 'stop', 'logprobs': None}, id='run--e6782f2b-4a58-4ef9-bb17-22bd41233c5f-0', usage_metadata={'input_tokens': 9, 'output_tokens': 38, 'total_tokens': 47})]}"
      ]
     },
     "execution_count": 25,
     "metadata": {},
     "output_type": "execute_result"
    }
   ],
   "source": [
    "app1.invoke(input)"
   ]
  },
  {
   "cell_type": "code",
   "execution_count": 26,
   "id": "4d08a57d",
   "metadata": {},
   "outputs": [
    {
     "name": "stdout",
     "output_type": "stream",
     "text": [
      "Output from my_bot node\n",
      "_______________________________\n",
      "{'messages': [AIMessage(content=\"<think>\\n\\n</think>\\n\\nHello! I'm just a virtual assistant, so I don't have feelings, but I'm here and ready to help you with whatever you need. How are you doing? 😊\", additional_kwargs={}, response_metadata={'token_usage': {'completion_tokens': 42, 'prompt_tokens': 9, 'total_tokens': 51, 'completion_time': 0.664250449, 'prompt_time': 0.000482289, 'queue_time': 0.218557147, 'total_time': 0.664732738}, 'model_name': 'deepseek-r1-distill-llama-70b', 'system_fingerprint': 'fp_1bbe7845ec', 'finish_reason': 'stop', 'logprobs': None}, id='run--9480892d-12b6-4905-9664-27730762ba12-0', usage_metadata={'input_tokens': 9, 'output_tokens': 42, 'total_tokens': 51})]}\n",
      "\n",
      "\n",
      "\n"
     ]
    }
   ],
   "source": [
    "for output in app1.stream(input):\n",
    "    for key, value in output.items():\n",
    "        print(f\"Output from {key} node\")\n",
    "        print (\"_______________________________\")\n",
    "        print (value)\n",
    "        print (\"\\n\\n\")"
   ]
  },
  {
   "cell_type": "markdown",
   "id": "a04e3fc3",
   "metadata": {},
   "source": [
    "Workflow with Tool Calling"
   ]
  },
  {
   "cell_type": "code",
   "execution_count": 28,
   "id": "8b90d065",
   "metadata": {},
   "outputs": [],
   "source": [
    "@tool\n",
    "def my_tool(query:str):\n",
    "    \"\"\"This is My Tool for Getting Weather\"\"\"\n",
    "    if \"sudan\" in query.lower():\n",
    "        return \"The Temp is 45 degrees and Sunny here\"\n",
    "    return \"The Temp is 30 degrees and Cold here\""
   ]
  },
  {
   "cell_type": "markdown",
   "id": "5ef6f066",
   "metadata": {},
   "source": [
    "Testing Tool"
   ]
  },
  {
   "cell_type": "code",
   "execution_count": 29,
   "id": "5cf489a4",
   "metadata": {},
   "outputs": [
    {
     "data": {
      "text/plain": [
       "'The Temp is 45 degrees and Sunny here'"
      ]
     },
     "execution_count": 29,
     "metadata": {},
     "output_type": "execute_result"
    }
   ],
   "source": [
    "my_tool.invoke(\"What is the weather in sudan ?\")"
   ]
  },
  {
   "cell_type": "code",
   "execution_count": 30,
   "id": "13254748",
   "metadata": {},
   "outputs": [
    {
     "data": {
      "text/plain": [
       "'The Temp is 30 degrees and Cold here'"
      ]
     },
     "execution_count": 30,
     "metadata": {},
     "output_type": "execute_result"
    }
   ],
   "source": [
    "my_tool.invoke(\"What is the weather in iran ?\")"
   ]
  },
  {
   "cell_type": "code",
   "execution_count": 31,
   "id": "ad45c463",
   "metadata": {},
   "outputs": [
    {
     "data": {
      "text/plain": [
       "StructuredTool(name='my_tool', description='This is My Tool for Getting Weather', args_schema=<class 'langchain_core.utils.pydantic.my_tool'>, func=<function my_tool at 0x000001CCE61D2E60>)"
      ]
     },
     "execution_count": 31,
     "metadata": {},
     "output_type": "execute_result"
    }
   ],
   "source": [
    "my_tool"
   ]
  },
  {
   "cell_type": "code",
   "execution_count": 35,
   "id": "dd68bca2",
   "metadata": {},
   "outputs": [
    {
     "data": {
      "text/plain": [
       "StructuredTool(name='my_tool', description='This is My Tool for Getting Weather', args_schema=<class 'langchain_core.utils.pydantic.my_tool'>, func=<function my_tool at 0x000001CCE61D2E60>)"
      ]
     },
     "execution_count": 35,
     "metadata": {},
     "output_type": "execute_result"
    }
   ],
   "source": [
    "my_tool"
   ]
  },
  {
   "cell_type": "code",
   "execution_count": 39,
   "id": "32c82f83",
   "metadata": {},
   "outputs": [
    {
     "data": {
      "text/plain": [
       "AIMessage(content=\"<think>\\n\\n</think>\\n\\nAs of my last update in July 2024, I cannot provide real-time weather information. However, Sudan generally has a tropical climate with two main seasons: a dry season and a rainy season. The country's climate varies by region:\\n\\n1. **North Sudan**: This region experiences a desert climate with very little rainfall, high temperatures during the day, and cooler nights.\\n2. **Central Sudan**: This area has a mix of desert and savanna climates, with a short rainy season.\\n3. **South Sudan**: The southern part of Sudan has a tropical savanna climate with a distinct rainy season and higher humidity.\\n\\nFor the most accurate and up-to-date weather information, I recommend checking a reliable weather forecasting service or app.\", additional_kwargs={}, response_metadata={'token_usage': {'completion_tokens': 152, 'prompt_tokens': 11, 'total_tokens': 163, 'completion_time': 0.553817506, 'prompt_time': 0.000292014, 'queue_time': 0.054029446, 'total_time': 0.55410952}, 'model_name': 'deepseek-r1-distill-llama-70b', 'system_fingerprint': 'fp_1bbe7845ec', 'finish_reason': 'stop', 'logprobs': None}, id='run--1260bd0f-056d-443b-af64-c33e08825011-0', usage_metadata={'input_tokens': 11, 'output_tokens': 152, 'total_tokens': 163})"
      ]
     },
     "execution_count": 39,
     "metadata": {},
     "output_type": "execute_result"
    }
   ],
   "source": [
    "llm.invoke(\"What is the weather in sudan ?\")"
   ]
  },
  {
   "cell_type": "markdown",
   "id": "00136ff5",
   "metadata": {},
   "source": [
    "Binding Tool to LLM"
   ]
  },
  {
   "cell_type": "code",
   "execution_count": 40,
   "id": "194a524f",
   "metadata": {},
   "outputs": [],
   "source": [
    "tools = [my_tool]"
   ]
  },
  {
   "cell_type": "code",
   "execution_count": 42,
   "id": "6c8f66b3",
   "metadata": {},
   "outputs": [],
   "source": [
    "llm_with_tool = llm.bind_tools(tools)"
   ]
  },
  {
   "cell_type": "code",
   "execution_count": 50,
   "id": "42429949",
   "metadata": {},
   "outputs": [],
   "source": [
    "response = llm_with_tool.invoke(\"What is the weather in sudan ?\")"
   ]
  },
  {
   "cell_type": "code",
   "execution_count": 51,
   "id": "57d4b510",
   "metadata": {},
   "outputs": [
    {
     "data": {
      "text/plain": [
       "AIMessage(content='', additional_kwargs={'tool_calls': [{'id': 'hfnhdtxda', 'function': {'arguments': '{\"query\":\"sudan\"}', 'name': 'my_tool'}, 'type': 'function'}]}, response_metadata={'token_usage': {'completion_tokens': 151, 'prompt_tokens': 132, 'total_tokens': 283, 'completion_time': 0.641244063, 'prompt_time': 0.008478596, 'queue_time': 0.21839197999999999, 'total_time': 0.649722659}, 'model_name': 'deepseek-r1-distill-llama-70b', 'system_fingerprint': 'fp_1bbe7845ec', 'finish_reason': 'tool_calls', 'logprobs': None}, id='run--33ce016f-7d77-4050-b308-a7a6f520f6f4-0', tool_calls=[{'name': 'my_tool', 'args': {'query': 'sudan'}, 'id': 'hfnhdtxda', 'type': 'tool_call'}], usage_metadata={'input_tokens': 132, 'output_tokens': 151, 'total_tokens': 283})"
      ]
     },
     "execution_count": 51,
     "metadata": {},
     "output_type": "execute_result"
    }
   ],
   "source": [
    "response"
   ]
  },
  {
   "cell_type": "code",
   "execution_count": 53,
   "id": "dcb51b08",
   "metadata": {},
   "outputs": [
    {
     "data": {
      "text/plain": [
       "''"
      ]
     },
     "execution_count": 53,
     "metadata": {},
     "output_type": "execute_result"
    }
   ],
   "source": [
    "response.content"
   ]
  },
  {
   "cell_type": "code",
   "execution_count": 54,
   "id": "7a2a3ae0",
   "metadata": {},
   "outputs": [
    {
     "data": {
      "text/plain": [
       "[{'name': 'my_tool',\n",
       "  'args': {'query': 'sudan'},\n",
       "  'id': 'hfnhdtxda',\n",
       "  'type': 'tool_call'}]"
      ]
     },
     "execution_count": 54,
     "metadata": {},
     "output_type": "execute_result"
    }
   ],
   "source": [
    "response.tool_calls"
   ]
  },
  {
   "cell_type": "code",
   "execution_count": 55,
   "id": "97be0202",
   "metadata": {},
   "outputs": [],
   "source": [
    "def call_llm(state: MessagesState):\n",
    "    question = state[\"messages\"]\n",
    "    response = llm_with_tool.invoke(question)\n",
    "    return {\"messages\": [response]}"
   ]
  },
  {
   "cell_type": "code",
   "execution_count": 56,
   "id": "471d870d",
   "metadata": {},
   "outputs": [],
   "source": [
    "input={\"messages\":[\"What is the weather in sudan ?\"]}"
   ]
  },
  {
   "cell_type": "code",
   "execution_count": 59,
   "id": "a166cc47",
   "metadata": {},
   "outputs": [],
   "source": [
    "response = call_llm(input)"
   ]
  },
  {
   "cell_type": "code",
   "execution_count": 60,
   "id": "ad4bc741",
   "metadata": {},
   "outputs": [
    {
     "data": {
      "text/plain": [
       "''"
      ]
     },
     "execution_count": 60,
     "metadata": {},
     "output_type": "execute_result"
    }
   ],
   "source": [
    "response[\"messages\"][-1].content"
   ]
  },
  {
   "cell_type": "code",
   "execution_count": 61,
   "id": "62a67bc1",
   "metadata": {},
   "outputs": [
    {
     "data": {
      "text/plain": [
       "[{'name': 'my_tool',\n",
       "  'args': {'query': 'weather in Sudan'},\n",
       "  'id': 'aea5e781r',\n",
       "  'type': 'tool_call'}]"
      ]
     },
     "execution_count": 61,
     "metadata": {},
     "output_type": "execute_result"
    }
   ],
   "source": [
    "response[\"messages\"][-1].tool_calls"
   ]
  },
  {
   "cell_type": "markdown",
   "id": "9aea9bdb",
   "metadata": {},
   "source": [
    "Router Function"
   ]
  },
  {
   "cell_type": "code",
   "execution_count": 62,
   "id": "b0c3154a",
   "metadata": {},
   "outputs": [],
   "source": [
    "def router_function(state: MessagesState):\n",
    "    messages = state[\"messages\"]\n",
    "    last_message = messages[-1]\n",
    "    if last_message.tool_calls:\n",
    "        return \"tools\"\n",
    "    return END"
   ]
  },
  {
   "cell_type": "code",
   "execution_count": 63,
   "id": "98c9b209",
   "metadata": {},
   "outputs": [
    {
     "data": {
      "text/plain": [
       "[StructuredTool(name='my_tool', description='This is My Tool for Getting Weather', args_schema=<class 'langchain_core.utils.pydantic.my_tool'>, func=<function my_tool at 0x000001CCE61D2E60>)]"
      ]
     },
     "execution_count": 63,
     "metadata": {},
     "output_type": "execute_result"
    }
   ],
   "source": [
    "tools"
   ]
  },
  {
   "cell_type": "code",
   "execution_count": 64,
   "id": "c44cb451",
   "metadata": {},
   "outputs": [],
   "source": [
    "tool_node=ToolNode(tools)"
   ]
  },
  {
   "cell_type": "code",
   "execution_count": 65,
   "id": "1d6ff5b3",
   "metadata": {},
   "outputs": [
    {
     "data": {
      "text/plain": [
       "tools(tags=None, recurse=True, explode_args=False, func_accepts_config=True, func_accepts={'store': ('__pregel_store', None)}, tools_by_name={'my_tool': StructuredTool(name='my_tool', description='This is My Tool for Getting Weather', args_schema=<class 'langchain_core.utils.pydantic.my_tool'>, func=<function my_tool at 0x000001CCE61D2E60>)}, tool_to_state_args={'my_tool': {}}, tool_to_store_arg={'my_tool': None}, handle_tool_errors=True, messages_key='messages')"
      ]
     },
     "execution_count": 65,
     "metadata": {},
     "output_type": "execute_result"
    }
   ],
   "source": [
    "tool_node"
   ]
  },
  {
   "cell_type": "code",
   "execution_count": 66,
   "id": "1f9a9f86",
   "metadata": {},
   "outputs": [],
   "source": [
    "workflow2 = StateGraph(MessagesState)"
   ]
  },
  {
   "cell_type": "code",
   "execution_count": 67,
   "id": "b34a3110",
   "metadata": {},
   "outputs": [
    {
     "data": {
      "text/plain": [
       "<langgraph.graph.state.StateGraph at 0x1cceea03130>"
      ]
     },
     "execution_count": 67,
     "metadata": {},
     "output_type": "execute_result"
    }
   ],
   "source": [
    "workflow2.add_node(\"llmwithtool\", call_llm)\n",
    "workflow2.add_node(\"mytools\", tool_node)\n",
    "\n",
    "workflow2.add_edge(START, \"llmwithtool\")\n",
    "workflow2.add_conditional_edges(\"llmwithtool\",\n",
    "                                router_function,\n",
    "                                {\n",
    "                                    \"tools\": \"mytools\",\n",
    "                                    END: END\n",
    "                                })"
   ]
  },
  {
   "cell_type": "code",
   "execution_count": 68,
   "id": "239d6755",
   "metadata": {},
   "outputs": [],
   "source": [
    "app2 = workflow2.compile()"
   ]
  },
  {
   "cell_type": "code",
   "execution_count": 69,
   "id": "2f09eb6e",
   "metadata": {},
   "outputs": [
    {
     "data": {
      "image/png": "[encoded data removed]",
      "text/plain": [
       "<IPython.core.display.Image object>"
      ]
     },
     "metadata": {},
     "output_type": "display_data"
    }
   ],
   "source": [
    "from IPython.display import Image, display\n",
    "display(Image(app2.get_graph().draw_mermaid_png()))"
   ]
  },
  {
   "cell_type": "code",
   "execution_count": 79,
   "id": "ab20a04b",
   "metadata": {},
   "outputs": [
    {
     "data": {
      "text/plain": [
       "{'messages': [HumanMessage(content='What is the weather in sudan ?', additional_kwargs={}, response_metadata={}, id='18f94f82-8f70-45c4-b2bc-7936555bb1d8'),\n",
       "  AIMessage(content='', additional_kwargs={'tool_calls': [{'id': '4t29azpq6', 'function': {'arguments': '{\"query\":\"sudan\"}', 'name': 'my_tool'}, 'type': 'function'}]}, response_metadata={'token_usage': {'completion_tokens': 231, 'prompt_tokens': 132, 'total_tokens': 363, 'completion_time': 0.994544374, 'prompt_time': 0.008578425, 'queue_time': 0.217817446, 'total_time': 1.003122799}, 'model_name': 'deepseek-r1-distill-llama-70b', 'system_fingerprint': 'fp_1bbe7845ec', 'finish_reason': 'tool_calls', 'logprobs': None}, id='run--9dc6103f-48af-40b1-b759-fcc4b23b33a3-0', tool_calls=[{'name': 'my_tool', 'args': {'query': 'sudan'}, 'id': '4t29azpq6', 'type': 'tool_call'}], usage_metadata={'input_tokens': 132, 'output_tokens': 231, 'total_tokens': 363}),\n",
       "  ToolMessage(content='The Temp is 45 degrees and Sunny here', name='my_tool', id='dabfdf52-1788-4aa9-a095-4a36d9837b18', tool_call_id='4t29azpq6')]}"
      ]
     },
     "execution_count": 79,
     "metadata": {},
     "output_type": "execute_result"
    }
   ],
   "source": [
    "input={\"messages\":[\"What is the weather in sudan ?\"]}\n",
    "response = app2.invoke(input)\n",
    "\n",
    "response"
   ]
  },
  {
   "cell_type": "code",
   "execution_count": 80,
   "id": "2d306a03",
   "metadata": {},
   "outputs": [
    {
     "data": {
      "text/plain": [
       "{'messages': [HumanMessage(content='What is the weather in iran ?', additional_kwargs={}, response_metadata={}, id='f358af26-c66d-426f-a5f9-6a099aed7c1d'),\n",
       "  AIMessage(content='', additional_kwargs={'tool_calls': [{'id': 'k142d8yj8', 'function': {'arguments': '{\"query\":\"iran\"}', 'name': 'my_tool'}, 'type': 'function'}]}, response_metadata={'token_usage': {'completion_tokens': 156, 'prompt_tokens': 132, 'total_tokens': 288, 'completion_time': 0.689263325, 'prompt_time': 0.008447277, 'queue_time': 0.21768868, 'total_time': 0.697710602}, 'model_name': 'deepseek-r1-distill-llama-70b', 'system_fingerprint': 'fp_1bbe7845ec', 'finish_reason': 'tool_calls', 'logprobs': None}, id='run--e3c3be24-2b06-4c5c-9faa-c21364f6b9cc-0', tool_calls=[{'name': 'my_tool', 'args': {'query': 'iran'}, 'id': 'k142d8yj8', 'type': 'tool_call'}], usage_metadata={'input_tokens': 132, 'output_tokens': 156, 'total_tokens': 288}),\n",
       "  ToolMessage(content='The Temp is 30 degrees and Cold here', name='my_tool', id='cf6df1cf-06ab-452f-b733-7757fb546ca0', tool_call_id='k142d8yj8')]}"
      ]
     },
     "execution_count": 80,
     "metadata": {},
     "output_type": "execute_result"
    }
   ],
   "source": [
    "input={\"messages\":[\"What is the weather in iran ?\"]}\n",
    "response = app2.invoke(input)\n",
    "\n",
    "response"
   ]
  },
  {
   "cell_type": "code",
   "execution_count": 81,
   "id": "9a9d4828",
   "metadata": {},
   "outputs": [
    {
     "data": {
      "text/plain": [
       "{'messages': [HumanMessage(content='What is 2 +3 actually ?', additional_kwargs={}, response_metadata={}, id='1f757374-754f-430c-89cf-45f521d295d3'),\n",
       "  AIMessage(content=\"I'm unable to assist with that request.\", additional_kwargs={}, response_metadata={'token_usage': {'completion_tokens': 117, 'prompt_tokens': 132, 'total_tokens': 249, 'completion_time': 0.646725124, 'prompt_time': 0.008588805, 'queue_time': 0.21788159499999998, 'total_time': 0.655313929}, 'model_name': 'deepseek-r1-distill-llama-70b', 'system_fingerprint': 'fp_1bbe7845ec', 'finish_reason': 'stop', 'logprobs': None}, id='run--34a0a59d-2985-466d-8951-399819185a0c-0', usage_metadata={'input_tokens': 132, 'output_tokens': 117, 'total_tokens': 249})]}"
      ]
     },
     "execution_count": 81,
     "metadata": {},
     "output_type": "execute_result"
    }
   ],
   "source": [
    "input={\"messages\":[\"What is 2 +3 actually ?\"]}\n",
    "response = app2.invoke(input)\n",
    "\n",
    "response"
   ]
  },
  {
   "cell_type": "code",
   "execution_count": 82,
   "id": "b3134e93",
   "metadata": {},
   "outputs": [
    {
     "name": "stderr",
     "output_type": "stream",
     "text": [
      "Adding an edge to a graph that has already been compiled. This will not be reflected in the compiled graph.\n"
     ]
    },
    {
     "data": {
      "text/plain": [
       "<langgraph.graph.state.StateGraph at 0x1cceea03130>"
      ]
     },
     "execution_count": 82,
     "metadata": {},
     "output_type": "execute_result"
    }
   ],
   "source": [
    "workflow2.add_edge(\"mytools\",\"llmwithtool\")"
   ]
  },
  {
   "cell_type": "code",
   "execution_count": 83,
   "id": "e0682b02",
   "metadata": {},
   "outputs": [],
   "source": [
    "app3=workflow2.compile()"
   ]
  },
  {
   "cell_type": "code",
   "execution_count": 84,
   "id": "be5da4be",
   "metadata": {},
   "outputs": [
    {
     "data": {
      "image/png": "[encoded data removed]",
      "text/plain": [
       "<IPython.core.display.Image object>"
      ]
     },
     "metadata": {},
     "output_type": "display_data"
    }
   ],
   "source": [
    "from IPython.display import Image, display\n",
    "display(Image(app3.get_graph().draw_mermaid_png()))"
   ]
  },
  {
   "cell_type": "code",
   "execution_count": 85,
   "id": "6554bc26",
   "metadata": {},
   "outputs": [
    {
     "data": {
      "text/plain": [
       "{'messages': [HumanMessage(content='What is the weather in sudan ?', additional_kwargs={}, response_metadata={}, id='2ecf892c-49a7-43cd-bc98-f7ca9156ac58'),\n",
       "  AIMessage(content='', additional_kwargs={'tool_calls': [{'id': '2devvamy7', 'function': {'arguments': '{\"query\":\"weather in Sudan\"}', 'name': 'my_tool'}, 'type': 'function'}]}, response_metadata={'token_usage': {'completion_tokens': 168, 'prompt_tokens': 132, 'total_tokens': 300, 'completion_time': 0.792657511, 'prompt_time': 0.008475757, 'queue_time': 0.24203780700000002, 'total_time': 0.801133268}, 'model_name': 'deepseek-r1-distill-llama-70b', 'system_fingerprint': 'fp_1bbe7845ec', 'finish_reason': 'tool_calls', 'logprobs': None}, id='run--25f73b31-5560-4655-bffb-c9f8cfd64486-0', tool_calls=[{'name': 'my_tool', 'args': {'query': 'weather in Sudan'}, 'id': '2devvamy7', 'type': 'tool_call'}], usage_metadata={'input_tokens': 132, 'output_tokens': 168, 'total_tokens': 300}),\n",
       "  ToolMessage(content='The Temp is 45 degrees and Sunny here', name='my_tool', id='12b1aed6-1296-4303-b3ea-e88083753b47', tool_call_id='2devvamy7'),\n",
       "  AIMessage(content='The weather in Sudan is currently 45 degrees and sunny.', additional_kwargs={}, response_metadata={'token_usage': {'completion_tokens': 161, 'prompt_tokens': 191, 'total_tokens': 352, 'completion_time': 0.90649308, 'prompt_time': 0.011942284, 'queue_time': 0.218373352, 'total_time': 0.918435364}, 'model_name': 'deepseek-r1-distill-llama-70b', 'system_fingerprint': 'fp_1bbe7845ec', 'finish_reason': 'stop', 'logprobs': None}, id='run--9f106597-fae1-453b-9b9f-e52d15c452d9-0', usage_metadata={'input_tokens': 191, 'output_tokens': 161, 'total_tokens': 352})]}"
      ]
     },
     "execution_count": 85,
     "metadata": {},
     "output_type": "execute_result"
    }
   ],
   "source": [
    "input={\"messages\":[\"What is the weather in sudan ?\"]}\n",
    "response = app3.invoke(input)\n",
    "\n",
    "response"
   ]
  },
  {
   "cell_type": "code",
   "execution_count": 86,
   "id": "2f4f7d53",
   "metadata": {},
   "outputs": [
    {
     "data": {
      "text/plain": [
       "{'messages': [HumanMessage(content='What is the weather in iran ?', additional_kwargs={}, response_metadata={}, id='d7720d01-b105-4170-bc37-11177821928d'),\n",
       "  AIMessage(content='', additional_kwargs={'tool_calls': [{'id': 'qp06myqez', 'function': {'arguments': '{\"query\":\"iran\"}', 'name': 'my_tool'}, 'type': 'function'}]}, response_metadata={'token_usage': {'completion_tokens': 147, 'prompt_tokens': 132, 'total_tokens': 279, 'completion_time': 0.716614996, 'prompt_time': 0.010083917, 'queue_time': 0.218763443, 'total_time': 0.726698913}, 'model_name': 'deepseek-r1-distill-llama-70b', 'system_fingerprint': 'fp_1bbe7845ec', 'finish_reason': 'tool_calls', 'logprobs': None}, id='run--69edef15-8fef-451a-b156-95d31125c37c-0', tool_calls=[{'name': 'my_tool', 'args': {'query': 'iran'}, 'id': 'qp06myqez', 'type': 'tool_call'}], usage_metadata={'input_tokens': 132, 'output_tokens': 147, 'total_tokens': 279}),\n",
       "  ToolMessage(content='The Temp is 30 degrees and Cold here', name='my_tool', id='493a5ca7-f296-48e1-959a-2940d5e2d105', tool_call_id='qp06myqez'),\n",
       "  AIMessage(content='It seems there might be a mistake in the information provided. The temperature of 30 degrees is not typically considered \"cold.\" If you\\'d like, you can try again to get more accurate weather information.', additional_kwargs={}, response_metadata={'token_usage': {'completion_tokens': 133, 'prompt_tokens': 189, 'total_tokens': 322, 'completion_time': 0.680265084, 'prompt_time': 0.012628952, 'queue_time': 0.218433715, 'total_time': 0.692894036}, 'model_name': 'deepseek-r1-distill-llama-70b', 'system_fingerprint': 'fp_1bbe7845ec', 'finish_reason': 'stop', 'logprobs': None}, id='run--1be498bc-4793-47b8-8423-5c089b074aad-0', usage_metadata={'input_tokens': 189, 'output_tokens': 133, 'total_tokens': 322})]}"
      ]
     },
     "execution_count": 86,
     "metadata": {},
     "output_type": "execute_result"
    }
   ],
   "source": [
    "input={\"messages\":[\"What is the weather in iran ?\"]}\n",
    "response = app3.invoke(input)\n",
    "\n",
    "response"
   ]
  },
  {
   "cell_type": "code",
   "execution_count": 87,
   "id": "5a4adcd2",
   "metadata": {},
   "outputs": [
    {
     "data": {
      "text/plain": [
       "{'messages': [HumanMessage(content='What is 2 +3 actually ?', additional_kwargs={}, response_metadata={}, id='e119f241-094a-46bd-9c03-ff14a085a003'),\n",
       "  AIMessage(content='The result of adding 2 and 3 is **5**.', additional_kwargs={}, response_metadata={'token_usage': {'completion_tokens': 353, 'prompt_tokens': 132, 'total_tokens': 485, 'completion_time': 1.6473755730000001, 'prompt_time': 0.009148154, 'queue_time': 0.22243469600000002, 'total_time': 1.656523727}, 'model_name': 'deepseek-r1-distill-llama-70b', 'system_fingerprint': 'fp_1bbe7845ec', 'finish_reason': 'stop', 'logprobs': None}, id='run--aae5e767-31f3-4ed9-b92c-c25c87d7da72-0', usage_metadata={'input_tokens': 132, 'output_tokens': 353, 'total_tokens': 485})]}"
      ]
     },
     "execution_count": 87,
     "metadata": {},
     "output_type": "execute_result"
    }
   ],
   "source": [
    "input={\"messages\":[\"What is 2 +3 actually ?\"]}\n",
    "response = app3.invoke(input)\n",
    "\n",
    "response"
   ]
  },
  {
   "cell_type": "markdown",
   "id": "9c9281d2",
   "metadata": {},
   "source": [
    "Memory Saver"
   ]
  },
  {
   "cell_type": "code",
   "execution_count": 111,
   "id": "35ce6384",
   "metadata": {},
   "outputs": [],
   "source": [
    "from langgraph.checkpoint.memory import MemorySaver"
   ]
  },
  {
   "cell_type": "code",
   "execution_count": 112,
   "id": "2739eeee",
   "metadata": {},
   "outputs": [],
   "source": [
    "memory=MemorySaver()"
   ]
  },
  {
   "cell_type": "code",
   "execution_count": 113,
   "id": "a1b57166",
   "metadata": {},
   "outputs": [
    {
     "data": {
      "text/plain": [
       "<langgraph.graph.state.StateGraph at 0x1cceeb28040>"
      ]
     },
     "execution_count": 113,
     "metadata": {},
     "output_type": "execute_result"
    }
   ],
   "source": [
    "workflow3=StateGraph(MessagesState)\n",
    "\n",
    "workflow3.add_node(\"llmwithtool\", call_llm)\n",
    "\n",
    "workflow3.add_node(\"mytools\", tool_node)\n",
    "\n",
    "workflow3.add_edge(START, \"llmwithtool\")\n",
    "\n",
    "workflow3.add_conditional_edges(\"llmwithtool\",\n",
    "                                router_function,\n",
    "                                {\n",
    "                                    \"tools\":\"mytools\",\n",
    "                                    END:END\n",
    "                                })\n",
    "\n",
    "workflow3.add_edge(\"mytools\",\"llmwithtool\")"
   ]
  },
  {
   "cell_type": "code",
   "execution_count": 114,
   "id": "4bf2a489",
   "metadata": {},
   "outputs": [],
   "source": [
    "app4=workflow3.compile(checkpointer=memory)"
   ]
  },
  {
   "cell_type": "code",
   "execution_count": 115,
   "id": "b5ee88e4",
   "metadata": {},
   "outputs": [
    {
     "data": {
      "image/png": "[encoded data removed]",
      "text/plain": [
       "<IPython.core.display.Image object>"
      ]
     },
     "metadata": {},
     "output_type": "display_data"
    }
   ],
   "source": [
    "from IPython.display import Image, display\n",
    "display(Image(app4.get_graph().draw_mermaid_png()))"
   ]
  },
  {
   "cell_type": "code",
   "execution_count": 116,
   "id": "79af10f3",
   "metadata": {},
   "outputs": [],
   "source": [
    "config={\"configurable\": {\"thread_id\": \"1\"}}"
   ]
  },
  {
   "cell_type": "code",
   "execution_count": 122,
   "id": "b8f66986",
   "metadata": {},
   "outputs": [],
   "source": [
    "events=app4.stream(\n",
    "    {\"messages\":[\"what is the weather in iran ?\"]},config=config,stream_mode=\"values\"\n",
    "    )"
   ]
  },
  {
   "cell_type": "code",
   "execution_count": 123,
   "id": "c75da9ef",
   "metadata": {},
   "outputs": [
    {
     "name": "stdout",
     "output_type": "stream",
     "text": [
      "================================\u001b[1m Human Message \u001b[0m=================================\n",
      "\n",
      "what is the weather in iran ?\n",
      "==================================\u001b[1m Ai Message \u001b[0m==================================\n",
      "Tool Calls:\n",
      "  my_tool (xwce51drb)\n",
      " Call ID: xwce51drb\n",
      "  Args:\n",
      "    query: what is the weather in iran ?\n",
      "=================================\u001b[1m Tool Message \u001b[0m=================================\n",
      "Name: my_tool\n",
      "\n",
      "The Temp is 30 degrees and Cold here\n",
      "==================================\u001b[1m Ai Message \u001b[0m==================================\n",
      "Tool Calls:\n",
      "  my_tool (yvxmtzpm1)\n",
      " Call ID: yvxmtzpm1\n",
      "  Args:\n",
      "    query: what is the weather in iran ?\n",
      "=================================\u001b[1m Tool Message \u001b[0m=================================\n",
      "Name: my_tool\n",
      "\n",
      "The Temp is 30 degrees and Cold here\n",
      "==================================\u001b[1m Ai Message \u001b[0m==================================\n"
     ]
    }
   ],
   "source": [
    "for event in events:\n",
    "    event[\"messages\"][-1].pretty_print()"
   ]
  },
  {
   "cell_type": "code",
   "execution_count": 124,
   "id": "4f41defe",
   "metadata": {},
   "outputs": [
    {
     "data": {
      "text/plain": [
       "{'configurable': {'thread_id': '1'}}"
      ]
     },
     "execution_count": 124,
     "metadata": {},
     "output_type": "execute_result"
    }
   ],
   "source": [
    "config"
   ]
  },
  {
   "cell_type": "code",
   "execution_count": 125,
   "id": "821bdb94",
   "metadata": {},
   "outputs": [
    {
     "data": {
      "text/plain": [
       "<langgraph.checkpoint.memory.InMemorySaver at 0x1cceeb29810>"
      ]
     },
     "execution_count": 125,
     "metadata": {},
     "output_type": "execute_result"
    }
   ],
   "source": [
    "memory"
   ]
  },
  {
   "cell_type": "code",
   "execution_count": 132,
   "id": "dae70ee5",
   "metadata": {},
   "outputs": [
    {
     "data": {
      "text/plain": [
       "{'v': 3,\n",
       " 'ts': '2025-06-14T13:13:42.053488+00:00',\n",
       " 'id': '1f049216-4b0b-6067-8010-5ff760c1fcdc',\n",
       " 'channel_versions': {'__start__': '00000000000000000000000000000017.0.2531632514926888',\n",
       "  'messages': '00000000000000000000000000000018.0.020490186044201053',\n",
       "  'branch:to:llmwithtool': '00000000000000000000000000000018.0.5032883974511229',\n",
       "  'branch:to:mytools': '00000000000000000000000000000011.0.623513035826298'},\n",
       " 'versions_seen': {'__input__': {},\n",
       "  '__start__': {'__start__': '00000000000000000000000000000016.0.15467951976429328'},\n",
       "  'llmwithtool': {'branch:to:llmwithtool': '00000000000000000000000000000017.0.058690820139505884'},\n",
       "  'mytools': {'branch:to:mytools': '00000000000000000000000000000010.0.10986591966750081'}},\n",
       " 'channel_values': {'messages': [HumanMessage(content='what is the weather in sudan ?', additional_kwargs={}, response_metadata={}, id='fd2127f2-2705-4555-8fdf-5c8fd738b52f'),\n",
       "   AIMessage(content='', additional_kwargs={'tool_calls': [{'id': 'xt17wd9xe', 'function': {'arguments': '{\"query\":\"what is the weather in sudan ?\"}', 'name': 'my_tool'}, 'type': 'function'}]}, response_metadata={'token_usage': {'completion_tokens': 180, 'prompt_tokens': 132, 'total_tokens': 312, 'completion_time': 0.757122351, 'prompt_time': 0.008433968, 'queue_time': 0.225607622, 'total_time': 0.765556319}, 'model_name': 'deepseek-r1-distill-llama-70b', 'system_fingerprint': 'fp_1bbe7845ec', 'finish_reason': 'tool_calls', 'logprobs': None}, id='run--b5aeef3a-c532-41a8-b5b9-9205b37fb889-0', tool_calls=[{'name': 'my_tool', 'args': {'query': 'what is the weather in sudan ?'}, 'id': 'xt17wd9xe', 'type': 'tool_call'}], usage_metadata={'input_tokens': 132, 'output_tokens': 180, 'total_tokens': 312}),\n",
       "   ToolMessage(content='The Temp is 45 degrees and Sunny here', name='my_tool', id='0880676e-264d-49ae-839b-530ec9f2d8a9', tool_call_id='xt17wd9xe'),\n",
       "   AIMessage(content='The weather in Sudan is currently 45 degrees and sunny.', additional_kwargs={}, response_metadata={'token_usage': {'completion_tokens': 91, 'prompt_tokens': 196, 'total_tokens': 287, 'completion_time': 0.439573818, 'prompt_time': 0.013151508, 'queue_time': 0.221187212, 'total_time': 0.452725326}, 'model_name': 'deepseek-r1-distill-llama-70b', 'system_fingerprint': 'fp_1bbe7845ec', 'finish_reason': 'stop', 'logprobs': None}, id='run--e468181d-ac08-457a-9075-502368941dc9-0', usage_metadata={'input_tokens': 196, 'output_tokens': 91, 'total_tokens': 287}),\n",
       "   HumanMessage(content='what is the weather in iran ?', additional_kwargs={}, response_metadata={}, id='1e842124-7082-4c1a-bedc-b201b6429972'),\n",
       "   AIMessage(content='', additional_kwargs={'tool_calls': [{'id': 'xwce51drb', 'function': {'arguments': '{\"query\":\"what is the weather in iran ?\"}', 'name': 'my_tool'}, 'type': 'function'}]}, response_metadata={'token_usage': {'completion_tokens': 205, 'prompt_tokens': 207, 'total_tokens': 412, 'completion_time': 0.903576349, 'prompt_time': 0.012757354, 'queue_time': 0.220975452, 'total_time': 0.916333703}, 'model_name': 'deepseek-r1-distill-llama-70b', 'system_fingerprint': 'fp_1bbe7845ec', 'finish_reason': 'tool_calls', 'logprobs': None}, id='run--1c037bb1-3499-4ccf-a35c-a348c2e131da-0', tool_calls=[{'name': 'my_tool', 'args': {'query': 'what is the weather in iran ?'}, 'id': 'xwce51drb', 'type': 'tool_call'}], usage_metadata={'input_tokens': 207, 'output_tokens': 205, 'total_tokens': 412}),\n",
       "   ToolMessage(content='The Temp is 30 degrees and Cold here', name='my_tool', id='73d3f304-d2c7-4038-a79d-4b59425d04a8', tool_call_id='xwce51drb'),\n",
       "   AIMessage(content='', additional_kwargs={'tool_calls': [{'id': 'yvxmtzpm1', 'function': {'arguments': '{\"query\":\"what is the weather in iran ?\"}', 'name': 'my_tool'}, 'type': 'function'}]}, response_metadata={'token_usage': {'completion_tokens': 300, 'prompt_tokens': 272, 'total_tokens': 572, 'completion_time': 1.443675697, 'prompt_time': 0.024114022, 'queue_time': 0.22134065400000003, 'total_time': 1.467789719}, 'model_name': 'deepseek-r1-distill-llama-70b', 'system_fingerprint': 'fp_1bbe7845ec', 'finish_reason': 'tool_calls', 'logprobs': None}, id='run--f209cbf7-f474-4c74-8539-6389f75068b2-0', tool_calls=[{'name': 'my_tool', 'args': {'query': 'what is the weather in iran ?'}, 'id': 'yvxmtzpm1', 'type': 'tool_call'}], usage_metadata={'input_tokens': 272, 'output_tokens': 300, 'total_tokens': 572}),\n",
       "   ToolMessage(content='The Temp is 30 degrees and Cold here', name='my_tool', id='077c4555-d484-44f3-989d-f3b658eb19fa', tool_call_id='yvxmtzpm1'),\n",
       "   AIMessage(content='', additional_kwargs={}, response_metadata={'token_usage': {'completion_tokens': 13, 'prompt_tokens': 337, 'total_tokens': 350, 'completion_time': 0.070114094, 'prompt_time': 0.021172881, 'queue_time': 0.218594175, 'total_time': 0.091286975}, 'model_name': 'deepseek-r1-distill-llama-70b', 'system_fingerprint': 'fp_1bbe7845ec', 'finish_reason': 'stop', 'logprobs': None}, id='run--15143d93-c44a-459e-a23f-7bd3dc2464f2-0', usage_metadata={'input_tokens': 337, 'output_tokens': 13, 'total_tokens': 350}),\n",
       "   HumanMessage(content='in which city the temp was 30 degree?', additional_kwargs={}, response_metadata={}, id='2b119854-d854-41dc-af01-6982beb27cbf'),\n",
       "   AIMessage(content=\"The tool output didn't specify the city name, but it mentioned the temperature was 30 degrees and cold. If you provide more details or clarify your request, I can assist you further!\", additional_kwargs={}, response_metadata={'token_usage': {'completion_tokens': 220, 'prompt_tokens': 350, 'total_tokens': 570, 'completion_time': 1.048880095, 'prompt_time': 0.021875089, 'queue_time': 0.218073792, 'total_time': 1.070755184}, 'model_name': 'deepseek-r1-distill-llama-70b', 'system_fingerprint': 'fp_1bbe7845ec', 'finish_reason': 'stop', 'logprobs': None}, id='run--bcbdeac3-b1b7-4779-944c-b67a935fda96-0', usage_metadata={'input_tokens': 350, 'output_tokens': 220, 'total_tokens': 570}),\n",
       "   HumanMessage(content='in which city the temp was 30 degree?', additional_kwargs={}, response_metadata={}, id='e808cb54-5e81-4036-ae7d-87f7e66aa363'),\n",
       "   AIMessage(content='It seems like there might be some confusion. Earlier, when you asked about the weather in Iran, the tool responded with:\\n\\n**\"The Temp is 30 degrees and Cold here.\"**\\n\\nIf you\\'d like to know the specific city where the temperature was 30 degrees, could you clarify or provide more details? Let me know how I can assist further!', additional_kwargs={}, response_metadata={'token_usage': {'completion_tokens': 217, 'prompt_tokens': 363, 'total_tokens': 580, 'completion_time': 1.028612155, 'prompt_time': 0.030404844, 'queue_time': 0.21838737600000002, 'total_time': 1.059016999}, 'model_name': 'deepseek-r1-distill-llama-70b', 'system_fingerprint': 'fp_1bbe7845ec', 'finish_reason': 'stop', 'logprobs': None}, id='run--a884b704-7592-4029-b660-5f2f5ba9a1bc-0', usage_metadata={'input_tokens': 363, 'output_tokens': 217, 'total_tokens': 580})]},\n",
       " 'pending_sends': []}"
      ]
     },
     "execution_count": 132,
     "metadata": {},
     "output_type": "execute_result"
    }
   ],
   "source": [
    "memory.get(config)"
   ]
  },
  {
   "cell_type": "code",
   "execution_count": 135,
   "id": "5bf247fc",
   "metadata": {},
   "outputs": [],
   "source": [
    "events=app4.stream(\n",
    "    {\"messages\":[\"In which country the temp was 30 degree ?\"]},config=config,stream_mode=\"values\"\n",
    "    )"
   ]
  },
  {
   "cell_type": "code",
   "execution_count": 136,
   "id": "1785790d",
   "metadata": {},
   "outputs": [
    {
     "name": "stdout",
     "output_type": "stream",
     "text": [
      "================================\u001b[1m Human Message \u001b[0m=================================\n",
      "\n",
      "In which country the temp was 30 degree ?\n",
      "==================================\u001b[1m Ai Message \u001b[0m==================================\n",
      "Tool Calls:\n",
      "  my_tool (jm4fj8f57)\n",
      " Call ID: jm4fj8f57\n",
      "  Args:\n",
      "    query: In which country the temp was 30 degree ?\n",
      "=================================\u001b[1m Tool Message \u001b[0m=================================\n",
      "Name: my_tool\n",
      "\n",
      "The Temp is 30 degrees and Cold here\n",
      "==================================\u001b[1m Ai Message \u001b[0m==================================\n",
      "\n",
      "The temperature of 30 degrees was recorded in **Iran**.\n"
     ]
    }
   ],
   "source": [
    "for event in events:\n",
    "    event[\"messages\"][-1].pretty_print()"
   ]
  }
 ],
 "metadata": {
  "kernelspec": {
   "display_name": "cv_collection_review_rnd",
   "language": "python",
   "name": "python3"
  },
  "language_info": {
   "codemirror_mode": {
    "name": "ipython",
    "version": 3
   },
   "file_extension": ".py",
   "mimetype": "text/x-python",
   "name": "python",
   "nbconvert_exporter": "python",
   "pygments_lexer": "ipython3",
   "version": "3.10.16"
  }
 },
 "nbformat": 4,
 "nbformat_minor": 5
}
