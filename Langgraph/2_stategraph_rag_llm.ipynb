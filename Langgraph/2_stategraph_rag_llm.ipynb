{
 "cells": [
  {
   "cell_type": "markdown",
   "id": "03cb1a4c",
   "metadata": {},
   "source": [
    "Config LLM model"
   ]
  },
  {
   "cell_type": "code",
   "execution_count": null,
   "id": "82585128",
   "metadata": {},
   "outputs": [
    {
     "data": {
      "text/plain": [
       "True"
      ]
     },
     "execution_count": 3,
     "metadata": {},
     "output_type": "execute_result"
    }
   ],
   "source": [
    "from dotenv import load_dotenv\n",
    "\n",
    "load_dotenv()"
   ]
  },
  {
   "cell_type": "code",
   "execution_count": 4,
   "id": "2e54f2c5",
   "metadata": {},
   "outputs": [
    {
     "name": "stdout",
     "output_type": "stream",
     "text": [
      "Hi there! How can I help you today?\n"
     ]
    }
   ],
   "source": [
    "from langchain_google_genai import ChatGoogleGenerativeAI\n",
    "model=ChatGoogleGenerativeAI(model='gemini-1.5-flash')\n",
    "output=model.invoke(\"hi\")\n",
    "print(output.content)"
   ]
  },
  {
   "cell_type": "markdown",
   "id": "7e972f14",
   "metadata": {},
   "source": [
    "Config Embedding model"
   ]
  },
  {
   "cell_type": "code",
   "execution_count": 5,
   "id": "9f732b98",
   "metadata": {},
   "outputs": [
    {
     "name": "stderr",
     "output_type": "stream",
     "text": [
      "c:\\Users\\HP\\miniconda3\\envs\\cv_collection_review_rnd\\lib\\site-packages\\tqdm\\auto.py:21: TqdmWarning: IProgress not found. Please update jupyter and ipywidgets. See https://ipywidgets.readthedocs.io/en/stable/user_install.html\n",
      "  from .autonotebook import tqdm as notebook_tqdm\n"
     ]
    },
    {
     "data": {
      "text/plain": [
       "384"
      ]
     },
     "execution_count": 5,
     "metadata": {},
     "output_type": "execute_result"
    }
   ],
   "source": [
    "from langchain_huggingface import HuggingFaceEmbeddings\n",
    "embeddings = HuggingFaceEmbeddings(model_name=\"BAAI/bge-small-en\")\n",
    "len(embeddings.embed_query(\"hi\"))"
   ]
  },
  {
   "cell_type": "markdown",
   "id": "5a02fafc",
   "metadata": {},
   "source": [
    "Load Data -> Embed -> Store to VectorDB"
   ]
  },
  {
   "cell_type": "code",
   "execution_count": 6,
   "id": "d7c02dd6",
   "metadata": {},
   "outputs": [],
   "source": [
    "from langchain_community.document_loaders import TextLoader, DirectoryLoader\n",
    "from langchain_community.vectorstores import Chroma\n",
    "from langchain.text_splitter import RecursiveCharacterTextSplitter"
   ]
  },
  {
   "cell_type": "code",
   "execution_count": 10,
   "id": "aaec1119",
   "metadata": {},
   "outputs": [],
   "source": [
    "loader=DirectoryLoader(\"./data\",glob=\"./*.txt\",loader_cls=TextLoader)"
   ]
  },
  {
   "cell_type": "code",
   "execution_count": 11,
   "id": "ab88b806",
   "metadata": {},
   "outputs": [],
   "source": [
    "docs = loader.load()"
   ]
  },
  {
   "cell_type": "code",
   "execution_count": 12,
   "id": "a8095bcc",
   "metadata": {},
   "outputs": [
    {
     "data": {
      "text/plain": [
       "1"
      ]
     },
     "execution_count": 12,
     "metadata": {},
     "output_type": "execute_result"
    }
   ],
   "source": [
    "len(docs)"
   ]
  },
  {
   "cell_type": "code",
   "execution_count": 13,
   "id": "dce2ac57",
   "metadata": {},
   "outputs": [
    {
     "data": {
      "text/plain": [
       "[Document(metadata={'source': 'data\\\\speech.txt'}, page_content='The world must be made safe for democracy. Its peace must be planted upon the tested foundations of political liberty. We have no selfish ends to serve. We desire no conquest, no dominion. We seek no indemnities for ourselves, no material compensation for the sacrifices we shall freely make. We are but one of the champions of the rights of mankind. We shall be satisfied when those rights have been made as secure as the faith and the freedom of nations can make them.\\n\\nJust because we fight without rancor and without selfish object, seeking nothing for ourselves but what we shall wish to share with all free peoples, we shall, I feel confident, conduct our operations as belligerents without passion and ourselves observe with proud punctilio the principles of right and of fair play we profess to be fighting for.\\n\\n…\\n\\nIt will be all the easier for us to conduct ourselves as belligerents in a high spirit of right and fairness because we act without animus, not in enmity toward a people or with the desire to bring any injury or disadvantage upon them, but only in armed opposition to an irresponsible government which has thrown aside all considerations of humanity and of right and is running amuck. We are, let me say again, the sincere friends of the German people, and shall desire nothing so much as the early reestablishment of intimate relations of mutual advantage between us—however hard it may be for them, for the time being, to believe that this is spoken from our hearts.\\n\\nWe have borne with their present government through all these bitter months because of that friendship—exercising a patience and forbearance which would otherwise have been impossible. We shall, happily, still have an opportunity to prove that friendship in our daily attitude and actions toward the millions of men and women of German birth and native sympathy who live among us and share our life, and we shall be proud to prove it toward all who are in fact loyal to their neighbors and to the government in the hour of test. They are, most of them, as true and loyal Americans as if they had never known any other fealty or allegiance. They will be prompt to stand with us in rebuking and restraining the few who may be of a different mind and purpose. If there should be disloyalty, it will be dealt with with a firm hand of stern repression; but, if it lifts its head at all, it will lift it only here and there and without countenance except from a lawless and malignant few.\\n\\nIt is a distressing and oppressive duty, gentlemen of the Congress, which I have performed in thus addressing you. There are, it may be, many months of fiery trial and sacrifice ahead of us. It is a fearful thing to lead this great peaceful people into war, into the most terrible and disastrous of all wars, civilization itself seeming to be in the balance. But the right is more precious than peace, and we shall fight for the things which we have always carried nearest our hearts—for democracy, for the right of those who submit to authority to have a voice in their own governments, for the rights and liberties of small nations, for a universal dominion of right by such a concert of free peoples as shall bring peace and safety to all nations and make the world itself at last free.\\n\\nTo such a task we can dedicate our lives and our fortunes, everything that we are and everything that we have, with the pride of those who know that the day has come when America is privileged to spend her blood and her might for the principles that gave her birth and happiness and the peace which she has treasured. God helping her, she can do no other.')]"
      ]
     },
     "execution_count": 13,
     "metadata": {},
     "output_type": "execute_result"
    }
   ],
   "source": [
    "docs"
   ]
  },
  {
   "cell_type": "code",
   "execution_count": 14,
   "id": "7952d5eb",
   "metadata": {},
   "outputs": [
    {
     "data": {
      "text/plain": [
       "Document(metadata={'source': 'data\\\\speech.txt'}, page_content='The world must be made safe for democracy. Its peace must be planted upon the tested foundations of political liberty. We have no selfish ends to serve. We desire no conquest, no dominion. We seek no indemnities for ourselves, no material compensation for the sacrifices we shall freely make. We are but one of the champions of the rights of mankind. We shall be satisfied when those rights have been made as secure as the faith and the freedom of nations can make them.\\n\\nJust because we fight without rancor and without selfish object, seeking nothing for ourselves but what we shall wish to share with all free peoples, we shall, I feel confident, conduct our operations as belligerents without passion and ourselves observe with proud punctilio the principles of right and of fair play we profess to be fighting for.\\n\\n…\\n\\nIt will be all the easier for us to conduct ourselves as belligerents in a high spirit of right and fairness because we act without animus, not in enmity toward a people or with the desire to bring any injury or disadvantage upon them, but only in armed opposition to an irresponsible government which has thrown aside all considerations of humanity and of right and is running amuck. We are, let me say again, the sincere friends of the German people, and shall desire nothing so much as the early reestablishment of intimate relations of mutual advantage between us—however hard it may be for them, for the time being, to believe that this is spoken from our hearts.\\n\\nWe have borne with their present government through all these bitter months because of that friendship—exercising a patience and forbearance which would otherwise have been impossible. We shall, happily, still have an opportunity to prove that friendship in our daily attitude and actions toward the millions of men and women of German birth and native sympathy who live among us and share our life, and we shall be proud to prove it toward all who are in fact loyal to their neighbors and to the government in the hour of test. They are, most of them, as true and loyal Americans as if they had never known any other fealty or allegiance. They will be prompt to stand with us in rebuking and restraining the few who may be of a different mind and purpose. If there should be disloyalty, it will be dealt with with a firm hand of stern repression; but, if it lifts its head at all, it will lift it only here and there and without countenance except from a lawless and malignant few.\\n\\nIt is a distressing and oppressive duty, gentlemen of the Congress, which I have performed in thus addressing you. There are, it may be, many months of fiery trial and sacrifice ahead of us. It is a fearful thing to lead this great peaceful people into war, into the most terrible and disastrous of all wars, civilization itself seeming to be in the balance. But the right is more precious than peace, and we shall fight for the things which we have always carried nearest our hearts—for democracy, for the right of those who submit to authority to have a voice in their own governments, for the rights and liberties of small nations, for a universal dominion of right by such a concert of free peoples as shall bring peace and safety to all nations and make the world itself at last free.\\n\\nTo such a task we can dedicate our lives and our fortunes, everything that we are and everything that we have, with the pride of those who know that the day has come when America is privileged to spend her blood and her might for the principles that gave her birth and happiness and the peace which she has treasured. God helping her, she can do no other.')"
      ]
     },
     "execution_count": 14,
     "metadata": {},
     "output_type": "execute_result"
    }
   ],
   "source": [
    "docs[0]"
   ]
  },
  {
   "cell_type": "code",
   "execution_count": 15,
   "id": "514e3eaf",
   "metadata": {},
   "outputs": [
    {
     "data": {
      "text/plain": [
       "'The world must be made safe for democracy. Its peace must be planted upon the tested foundations of political liberty. We have no selfish ends to serve. We desire no conquest, no dominion. We seek no indemnities for ourselves, no material compensation for the sacrifices we shall freely make. We are but one of the champions of the rights of mankind. We shall be satisfied when those rights have been made as secure as the faith and the freedom of nations can make them.\\n\\nJust because we fight without rancor and without selfish object, seeking nothing for ourselves but what we shall wish to share with all free peoples, we shall, I feel confident, conduct our operations as belligerents without passion and ourselves observe with proud punctilio the principles of right and of fair play we profess to be fighting for.\\n\\n…\\n\\nIt will be all the easier for us to conduct ourselves as belligerents in a high spirit of right and fairness because we act without animus, not in enmity toward a people or with the desire to bring any injury or disadvantage upon them, but only in armed opposition to an irresponsible government which has thrown aside all considerations of humanity and of right and is running amuck. We are, let me say again, the sincere friends of the German people, and shall desire nothing so much as the early reestablishment of intimate relations of mutual advantage between us—however hard it may be for them, for the time being, to believe that this is spoken from our hearts.\\n\\nWe have borne with their present government through all these bitter months because of that friendship—exercising a patience and forbearance which would otherwise have been impossible. We shall, happily, still have an opportunity to prove that friendship in our daily attitude and actions toward the millions of men and women of German birth and native sympathy who live among us and share our life, and we shall be proud to prove it toward all who are in fact loyal to their neighbors and to the government in the hour of test. They are, most of them, as true and loyal Americans as if they had never known any other fealty or allegiance. They will be prompt to stand with us in rebuking and restraining the few who may be of a different mind and purpose. If there should be disloyalty, it will be dealt with with a firm hand of stern repression; but, if it lifts its head at all, it will lift it only here and there and without countenance except from a lawless and malignant few.\\n\\nIt is a distressing and oppressive duty, gentlemen of the Congress, which I have performed in thus addressing you. There are, it may be, many months of fiery trial and sacrifice ahead of us. It is a fearful thing to lead this great peaceful people into war, into the most terrible and disastrous of all wars, civilization itself seeming to be in the balance. But the right is more precious than peace, and we shall fight for the things which we have always carried nearest our hearts—for democracy, for the right of those who submit to authority to have a voice in their own governments, for the rights and liberties of small nations, for a universal dominion of right by such a concert of free peoples as shall bring peace and safety to all nations and make the world itself at last free.\\n\\nTo such a task we can dedicate our lives and our fortunes, everything that we are and everything that we have, with the pride of those who know that the day has come when America is privileged to spend her blood and her might for the principles that gave her birth and happiness and the peace which she has treasured. God helping her, she can do no other.'"
      ]
     },
     "execution_count": 15,
     "metadata": {},
     "output_type": "execute_result"
    }
   ],
   "source": [
    "docs[0].page_content"
   ]
  },
  {
   "cell_type": "code",
   "execution_count": 16,
   "id": "125d36f5",
   "metadata": {},
   "outputs": [],
   "source": [
    "text_splitter=RecursiveCharacterTextSplitter(\n",
    "    chunk_size=200,\n",
    "    chunk_overlap=50\n",
    ")"
   ]
  },
  {
   "cell_type": "code",
   "execution_count": 17,
   "id": "bcefec8a",
   "metadata": {},
   "outputs": [],
   "source": [
    "new_docs=text_splitter.split_documents(documents=docs)"
   ]
  },
  {
   "cell_type": "code",
   "execution_count": 18,
   "id": "8d14f22a",
   "metadata": {},
   "outputs": [
    {
     "data": {
      "text/plain": [
       "27"
      ]
     },
     "execution_count": 18,
     "metadata": {},
     "output_type": "execute_result"
    }
   ],
   "source": [
    "len(new_docs)"
   ]
  },
  {
   "cell_type": "code",
   "execution_count": 19,
   "id": "63b8e070",
   "metadata": {},
   "outputs": [
    {
     "data": {
      "text/plain": [
       "[Document(metadata={'source': 'data\\\\speech.txt'}, page_content='The world must be made safe for democracy. Its peace must be planted upon the tested foundations of political liberty. We have no selfish ends to serve. We desire no conquest, no dominion. We seek no'),\n",
       " Document(metadata={'source': 'data\\\\speech.txt'}, page_content='We desire no conquest, no dominion. We seek no indemnities for ourselves, no material compensation for the sacrifices we shall freely make. We are but one of the champions of the rights of mankind.'),\n",
       " Document(metadata={'source': 'data\\\\speech.txt'}, page_content='one of the champions of the rights of mankind. We shall be satisfied when those rights have been made as secure as the faith and the freedom of nations can make them.'),\n",
       " Document(metadata={'source': 'data\\\\speech.txt'}, page_content='Just because we fight without rancor and without selfish object, seeking nothing for ourselves but what we shall wish to share with all free peoples, we shall, I feel confident, conduct our'),\n",
       " Document(metadata={'source': 'data\\\\speech.txt'}, page_content='peoples, we shall, I feel confident, conduct our operations as belligerents without passion and ourselves observe with proud punctilio the principles of right and of fair play we profess to be'),\n",
       " Document(metadata={'source': 'data\\\\speech.txt'}, page_content='of right and of fair play we profess to be fighting for.'),\n",
       " Document(metadata={'source': 'data\\\\speech.txt'}, page_content='…'),\n",
       " Document(metadata={'source': 'data\\\\speech.txt'}, page_content='It will be all the easier for us to conduct ourselves as belligerents in a high spirit of right and fairness because we act without animus, not in enmity toward a people or with the desire to bring'),\n",
       " Document(metadata={'source': 'data\\\\speech.txt'}, page_content='toward a people or with the desire to bring any injury or disadvantage upon them, but only in armed opposition to an irresponsible government which has thrown aside all considerations of humanity and'),\n",
       " Document(metadata={'source': 'data\\\\speech.txt'}, page_content='thrown aside all considerations of humanity and of right and is running amuck. We are, let me say again, the sincere friends of the German people, and shall desire nothing so much as the early'),\n",
       " Document(metadata={'source': 'data\\\\speech.txt'}, page_content='and shall desire nothing so much as the early reestablishment of intimate relations of mutual advantage between us—however hard it may be for them, for the time being, to believe that this is spoken'),\n",
       " Document(metadata={'source': 'data\\\\speech.txt'}, page_content='the time being, to believe that this is spoken from our hearts.'),\n",
       " Document(metadata={'source': 'data\\\\speech.txt'}, page_content='We have borne with their present government through all these bitter months because of that friendship—exercising a patience and forbearance which would otherwise have been impossible. We shall,'),\n",
       " Document(metadata={'source': 'data\\\\speech.txt'}, page_content='would otherwise have been impossible. We shall, happily, still have an opportunity to prove that friendship in our daily attitude and actions toward the millions of men and women of German birth and'),\n",
       " Document(metadata={'source': 'data\\\\speech.txt'}, page_content='the millions of men and women of German birth and native sympathy who live among us and share our life, and we shall be proud to prove it toward all who are in fact loyal to their neighbors and to'),\n",
       " Document(metadata={'source': 'data\\\\speech.txt'}, page_content='who are in fact loyal to their neighbors and to the government in the hour of test. They are, most of them, as true and loyal Americans as if they had never known any other fealty or allegiance. They'),\n",
       " Document(metadata={'source': 'data\\\\speech.txt'}, page_content='never known any other fealty or allegiance. They will be prompt to stand with us in rebuking and restraining the few who may be of a different mind and purpose. If there should be disloyalty, it will'),\n",
       " Document(metadata={'source': 'data\\\\speech.txt'}, page_content='purpose. If there should be disloyalty, it will be dealt with with a firm hand of stern repression; but, if it lifts its head at all, it will lift it only here and there and without countenance'),\n",
       " Document(metadata={'source': 'data\\\\speech.txt'}, page_content='it only here and there and without countenance except from a lawless and malignant few.'),\n",
       " Document(metadata={'source': 'data\\\\speech.txt'}, page_content='It is a distressing and oppressive duty, gentlemen of the Congress, which I have performed in thus addressing you. There are, it may be, many months of fiery trial and sacrifice ahead of us. It is a'),\n",
       " Document(metadata={'source': 'data\\\\speech.txt'}, page_content='of fiery trial and sacrifice ahead of us. It is a fearful thing to lead this great peaceful people into war, into the most terrible and disastrous of all wars, civilization itself seeming to be in'),\n",
       " Document(metadata={'source': 'data\\\\speech.txt'}, page_content='of all wars, civilization itself seeming to be in the balance. But the right is more precious than peace, and we shall fight for the things which we have always carried nearest our hearts—for'),\n",
       " Document(metadata={'source': 'data\\\\speech.txt'}, page_content='we have always carried nearest our hearts—for democracy, for the right of those who submit to authority to have a voice in their own governments, for the rights and liberties of small nations, for a'),\n",
       " Document(metadata={'source': 'data\\\\speech.txt'}, page_content='the rights and liberties of small nations, for a universal dominion of right by such a concert of free peoples as shall bring peace and safety to all nations and make the world itself at last free.'),\n",
       " Document(metadata={'source': 'data\\\\speech.txt'}, page_content='To such a task we can dedicate our lives and our fortunes, everything that we are and everything that we have, with the pride of those who know that the day has come when America is privileged to'),\n",
       " Document(metadata={'source': 'data\\\\speech.txt'}, page_content='the day has come when America is privileged to spend her blood and her might for the principles that gave her birth and happiness and the peace which she has treasured. God helping her, she can do no'),\n",
       " Document(metadata={'source': 'data\\\\speech.txt'}, page_content='she has treasured. God helping her, she can do no other.')]"
      ]
     },
     "execution_count": 19,
     "metadata": {},
     "output_type": "execute_result"
    }
   ],
   "source": [
    "new_docs"
   ]
  },
  {
   "cell_type": "code",
   "execution_count": 20,
   "id": "7b72295e",
   "metadata": {},
   "outputs": [],
   "source": [
    "doc_string=[doc.page_content for doc in new_docs]"
   ]
  },
  {
   "cell_type": "code",
   "execution_count": 21,
   "id": "434b2b9e",
   "metadata": {},
   "outputs": [
    {
     "data": {
      "text/plain": [
       "['The world must be made safe for democracy. Its peace must be planted upon the tested foundations of political liberty. We have no selfish ends to serve. We desire no conquest, no dominion. We seek no',\n",
       " 'We desire no conquest, no dominion. We seek no indemnities for ourselves, no material compensation for the sacrifices we shall freely make. We are but one of the champions of the rights of mankind.',\n",
       " 'one of the champions of the rights of mankind. We shall be satisfied when those rights have been made as secure as the faith and the freedom of nations can make them.',\n",
       " 'Just because we fight without rancor and without selfish object, seeking nothing for ourselves but what we shall wish to share with all free peoples, we shall, I feel confident, conduct our',\n",
       " 'peoples, we shall, I feel confident, conduct our operations as belligerents without passion and ourselves observe with proud punctilio the principles of right and of fair play we profess to be',\n",
       " 'of right and of fair play we profess to be fighting for.',\n",
       " '…',\n",
       " 'It will be all the easier for us to conduct ourselves as belligerents in a high spirit of right and fairness because we act without animus, not in enmity toward a people or with the desire to bring',\n",
       " 'toward a people or with the desire to bring any injury or disadvantage upon them, but only in armed opposition to an irresponsible government which has thrown aside all considerations of humanity and',\n",
       " 'thrown aside all considerations of humanity and of right and is running amuck. We are, let me say again, the sincere friends of the German people, and shall desire nothing so much as the early',\n",
       " 'and shall desire nothing so much as the early reestablishment of intimate relations of mutual advantage between us—however hard it may be for them, for the time being, to believe that this is spoken',\n",
       " 'the time being, to believe that this is spoken from our hearts.',\n",
       " 'We have borne with their present government through all these bitter months because of that friendship—exercising a patience and forbearance which would otherwise have been impossible. We shall,',\n",
       " 'would otherwise have been impossible. We shall, happily, still have an opportunity to prove that friendship in our daily attitude and actions toward the millions of men and women of German birth and',\n",
       " 'the millions of men and women of German birth and native sympathy who live among us and share our life, and we shall be proud to prove it toward all who are in fact loyal to their neighbors and to',\n",
       " 'who are in fact loyal to their neighbors and to the government in the hour of test. They are, most of them, as true and loyal Americans as if they had never known any other fealty or allegiance. They',\n",
       " 'never known any other fealty or allegiance. They will be prompt to stand with us in rebuking and restraining the few who may be of a different mind and purpose. If there should be disloyalty, it will',\n",
       " 'purpose. If there should be disloyalty, it will be dealt with with a firm hand of stern repression; but, if it lifts its head at all, it will lift it only here and there and without countenance',\n",
       " 'it only here and there and without countenance except from a lawless and malignant few.',\n",
       " 'It is a distressing and oppressive duty, gentlemen of the Congress, which I have performed in thus addressing you. There are, it may be, many months of fiery trial and sacrifice ahead of us. It is a',\n",
       " 'of fiery trial and sacrifice ahead of us. It is a fearful thing to lead this great peaceful people into war, into the most terrible and disastrous of all wars, civilization itself seeming to be in',\n",
       " 'of all wars, civilization itself seeming to be in the balance. But the right is more precious than peace, and we shall fight for the things which we have always carried nearest our hearts—for',\n",
       " 'we have always carried nearest our hearts—for democracy, for the right of those who submit to authority to have a voice in their own governments, for the rights and liberties of small nations, for a',\n",
       " 'the rights and liberties of small nations, for a universal dominion of right by such a concert of free peoples as shall bring peace and safety to all nations and make the world itself at last free.',\n",
       " 'To such a task we can dedicate our lives and our fortunes, everything that we are and everything that we have, with the pride of those who know that the day has come when America is privileged to',\n",
       " 'the day has come when America is privileged to spend her blood and her might for the principles that gave her birth and happiness and the peace which she has treasured. God helping her, she can do no',\n",
       " 'she has treasured. God helping her, she can do no other.']"
      ]
     },
     "execution_count": 21,
     "metadata": {},
     "output_type": "execute_result"
    }
   ],
   "source": [
    "doc_string"
   ]
  },
  {
   "cell_type": "code",
   "execution_count": 22,
   "id": "513255bf",
   "metadata": {},
   "outputs": [
    {
     "data": {
      "text/plain": [
       "27"
      ]
     },
     "execution_count": 22,
     "metadata": {},
     "output_type": "execute_result"
    }
   ],
   "source": [
    "len(doc_string)"
   ]
  },
  {
   "cell_type": "code",
   "execution_count": 23,
   "id": "b98d4dd9",
   "metadata": {},
   "outputs": [],
   "source": [
    "db=Chroma.from_documents(new_docs,embeddings)"
   ]
  },
  {
   "cell_type": "code",
   "execution_count": 25,
   "id": "621cfd9a",
   "metadata": {},
   "outputs": [],
   "source": [
    "retriever=db.as_retriever(search_kwargs={\"k\": 3})"
   ]
  },
  {
   "cell_type": "code",
   "execution_count": 39,
   "id": "4931fcdd",
   "metadata": {},
   "outputs": [
    {
     "data": {
      "text/plain": [
       "[Document(metadata={'source': 'data\\\\speech.txt'}, page_content='the day has come when America is privileged to spend her blood and her might for the principles that gave her birth and happiness and the peace which she has treasured. God helping her, she can do no'),\n",
       " Document(metadata={'source': 'data\\\\speech.txt'}, page_content='The world must be made safe for democracy. Its peace must be planted upon the tested foundations of political liberty. We have no selfish ends to serve. We desire no conquest, no dominion. We seek no'),\n",
       " Document(metadata={'source': 'data\\\\speech.txt'}, page_content='…')]"
      ]
     },
     "execution_count": 39,
     "metadata": {},
     "output_type": "execute_result"
    }
   ],
   "source": [
    "retriever.invoke(\"industrial growth of usa?\")"
   ]
  },
  {
   "cell_type": "markdown",
   "id": "678ebb91",
   "metadata": {},
   "source": [
    "Importing Libraries"
   ]
  },
  {
   "cell_type": "code",
   "execution_count": 107,
   "id": "8444e80c",
   "metadata": {},
   "outputs": [],
   "source": [
    "import operator\n",
    "\n",
    "from typing import List, TypedDict, Annotated, Sequence\n",
    "\n",
    "from pydantic import BaseModel , Field\n",
    "\n",
    "from langchain.prompts import PromptTemplate\n",
    "from langchain.output_parsers import PydanticOutputParser\n",
    "from langchain_core.messages import BaseMessage, HumanMessage, AIMessage\n",
    "from langchain_core.output_parsers import StrOutputParser\n",
    "from langchain_core.prompts import ChatPromptTemplate, PromptTemplate\n",
    "from langchain_core.runnables import RunnablePassthrough\n",
    "\n",
    "from langgraph.graph import StateGraph, END\n"
   ]
  },
  {
   "cell_type": "markdown",
   "id": "76e65f4c",
   "metadata": {},
   "source": [
    "Pydantic Class for LLM Output"
   ]
  },
  {
   "cell_type": "code",
   "execution_count": 58,
   "id": "6b97416f",
   "metadata": {},
   "outputs": [],
   "source": [
    "class TopicSelectionParser(BaseModel):\n",
    "    Topic:str=Field(description=\"selected topic\")\n",
    "    Reasoning:str=Field(description='Reasoning behind topic selection')"
   ]
  },
  {
   "cell_type": "code",
   "execution_count": 59,
   "id": "e96be26d",
   "metadata": {},
   "outputs": [],
   "source": [
    "parser=PydanticOutputParser(pydantic_object=TopicSelectionParser)"
   ]
  },
  {
   "cell_type": "code",
   "execution_count": 60,
   "id": "c87219d3",
   "metadata": {},
   "outputs": [
    {
     "name": "stdout",
     "output_type": "stream",
     "text": [
      "The output should be formatted as a JSON instance that conforms to the JSON schema below.\n",
      "\n",
      "As an example, for the schema {\"properties\": {\"foo\": {\"title\": \"Foo\", \"description\": \"a list of strings\", \"type\": \"array\", \"items\": {\"type\": \"string\"}}}, \"required\": [\"foo\"]}\n",
      "the object {\"foo\": [\"bar\", \"baz\"]} is a well-formatted instance of the schema. The object {\"properties\": {\"foo\": [\"bar\", \"baz\"]}} is not well-formatted.\n",
      "\n",
      "Here is the output schema:\n",
      "```\n",
      "{\"properties\": {\"Topic\": {\"description\": \"selected topic\", \"title\": \"Topic\", \"type\": \"string\"}, \"Reasoning\": {\"description\": \"Reasoning behind topic selection\", \"title\": \"Reasoning\", \"type\": \"string\"}}, \"required\": [\"Topic\", \"Reasoning\"]}\n",
      "```\n"
     ]
    }
   ],
   "source": [
    "print (parser.get_format_instructions())"
   ]
  },
  {
   "cell_type": "markdown",
   "id": "459fa85a",
   "metadata": {},
   "source": [
    "Understand Graph State"
   ]
  },
  {
   "cell_type": "code",
   "execution_count": 61,
   "id": "84096f1d",
   "metadata": {},
   "outputs": [],
   "source": [
    "Agentstate={}"
   ]
  },
  {
   "cell_type": "code",
   "execution_count": 62,
   "id": "4203aadb",
   "metadata": {},
   "outputs": [],
   "source": [
    "Agentstate[\"messages\"] = []"
   ]
  },
  {
   "cell_type": "code",
   "execution_count": 63,
   "id": "4e9459e3",
   "metadata": {},
   "outputs": [
    {
     "data": {
      "text/plain": [
       "{'messages': []}"
      ]
     },
     "execution_count": 63,
     "metadata": {},
     "output_type": "execute_result"
    }
   ],
   "source": [
    "Agentstate"
   ]
  },
  {
   "cell_type": "code",
   "execution_count": 64,
   "id": "bff5e628",
   "metadata": {},
   "outputs": [],
   "source": [
    "Agentstate[\"messages\"].append(\"Hi, How are you ?\")"
   ]
  },
  {
   "cell_type": "code",
   "execution_count": 65,
   "id": "7318cb29",
   "metadata": {},
   "outputs": [],
   "source": [
    "Agentstate[\"messages\"].append(\"I am doing fine. How do you do ?\")"
   ]
  },
  {
   "cell_type": "code",
   "execution_count": 66,
   "id": "3b688b23",
   "metadata": {},
   "outputs": [
    {
     "data": {
      "text/plain": [
       "{'messages': ['Hi, How are you ?', 'I am doing fine. How do you do ?']}"
      ]
     },
     "execution_count": 66,
     "metadata": {},
     "output_type": "execute_result"
    }
   ],
   "source": [
    "Agentstate"
   ]
  },
  {
   "cell_type": "code",
   "execution_count": 67,
   "id": "4de07ad4",
   "metadata": {},
   "outputs": [
    {
     "data": {
      "text/plain": [
       "'I am doing fine. How do you do ?'"
      ]
     },
     "execution_count": 67,
     "metadata": {},
     "output_type": "execute_result"
    }
   ],
   "source": [
    "Agentstate[\"messages\"][-1]"
   ]
  },
  {
   "cell_type": "code",
   "execution_count": 68,
   "id": "d57d89e2",
   "metadata": {},
   "outputs": [
    {
     "data": {
      "text/plain": [
       "'Hi, How are you ?'"
      ]
     },
     "execution_count": 68,
     "metadata": {},
     "output_type": "execute_result"
    }
   ],
   "source": [
    "Agentstate[\"messages\"][0]"
   ]
  },
  {
   "cell_type": "markdown",
   "id": "ffe5d4f6",
   "metadata": {},
   "source": [
    "Graph State as Custom Class"
   ]
  },
  {
   "cell_type": "code",
   "execution_count": 69,
   "id": "c7c14e9f",
   "metadata": {},
   "outputs": [],
   "source": [
    "class AgentState(TypedDict):\n",
    "    messages: Annotated[Sequence[HumanMessage], operator.add]"
   ]
  },
  {
   "cell_type": "code",
   "execution_count": 70,
   "id": "d2083665",
   "metadata": {},
   "outputs": [],
   "source": [
    "state={\"messages\":[\"hi\"]}"
   ]
  },
  {
   "cell_type": "code",
   "execution_count": 71,
   "id": "d43d3e88",
   "metadata": {},
   "outputs": [
    {
     "data": {
      "text/plain": [
       "{'messages': ['hi']}"
      ]
     },
     "execution_count": 71,
     "metadata": {},
     "output_type": "execute_result"
    }
   ],
   "source": [
    "state"
   ]
  },
  {
   "cell_type": "markdown",
   "id": "f7c8f94c",
   "metadata": {},
   "source": [
    "Logic for Graph Nodes / Functions"
   ]
  },
  {
   "cell_type": "code",
   "execution_count": 97,
   "id": "bf29bc92",
   "metadata": {},
   "outputs": [],
   "source": [
    "# Decide whether need to use VectorDatabase or LLM generate\n",
    "\n",
    "def function_1(state:AgentState):\n",
    "    \n",
    "    question=state[\"messages\"][-1]\n",
    "    \n",
    "    print(\"Question\",question)\n",
    "    \n",
    "    template=\"\"\"\n",
    "    Your task is to classify the given user query into one of the following categories: [USA,Not Related]. \n",
    "    Only respond with the category name and nothing else.\n",
    "\n",
    "    User query: {question}\n",
    "    {format_instructions}\n",
    "    \"\"\"\n",
    "    \n",
    "    prompt= PromptTemplate(\n",
    "        template=template,\n",
    "        input_variable=[\"question\"],\n",
    "        partial_variables={\"format_instructions\": parser.get_format_instructions()}\n",
    "    )\n",
    "    \n",
    "    \n",
    "    chain= prompt | model | parser\n",
    "    \n",
    "    response = chain.invoke({\"question\":question})\n",
    "    \n",
    "    print(\"Parsed response:\", response)\n",
    "    \n",
    "    return {\"messages\": [response.Topic]}"
   ]
  },
  {
   "cell_type": "code",
   "execution_count": 98,
   "id": "4c63bfac",
   "metadata": {},
   "outputs": [
    {
     "name": "stdout",
     "output_type": "stream",
     "text": [
      "Question what is a today weather?\n",
      "Parsed response: Topic='Not Related' Reasoning='The query asks for the weather, which is not specific to the USA.'\n"
     ]
    },
    {
     "data": {
      "text/plain": [
       "{'messages': ['Not Related']}"
      ]
     },
     "execution_count": 98,
     "metadata": {},
     "output_type": "execute_result"
    }
   ],
   "source": [
    "state={\"messages\":[\"what is a today weather?\"]}\n",
    "\n",
    "function_1(state)"
   ]
  },
  {
   "cell_type": "code",
   "execution_count": 99,
   "id": "39e9351e",
   "metadata": {},
   "outputs": [
    {
     "name": "stdout",
     "output_type": "stream",
     "text": [
      "Question what is USA GDP as of 2025?\n",
      "Parsed response: Topic='USA' Reasoning='The query explicitly asks for the GDP of the USA.'\n"
     ]
    },
    {
     "data": {
      "text/plain": [
       "{'messages': ['USA']}"
      ]
     },
     "execution_count": 99,
     "metadata": {},
     "output_type": "execute_result"
    }
   ],
   "source": [
    "state={\"messages\":[\"what is USA GDP as of 2025?\"]}\n",
    "\n",
    "function_1(state)"
   ]
  },
  {
   "cell_type": "code",
   "execution_count": 100,
   "id": "644741fd",
   "metadata": {},
   "outputs": [
    {
     "name": "stdout",
     "output_type": "stream",
     "text": [
      "Question Who is Donald Trump?\n",
      "Parsed response: Topic='USA' Reasoning='Donald Trump is a prominent figure in US politics.'\n"
     ]
    },
    {
     "data": {
      "text/plain": [
       "{'messages': ['USA']}"
      ]
     },
     "execution_count": 100,
     "metadata": {},
     "output_type": "execute_result"
    }
   ],
   "source": [
    "state={\"messages\":[\"Who is Donald Trump?\"]}\n",
    "\n",
    "function_1(state)"
   ]
  },
  {
   "cell_type": "code",
   "execution_count": 101,
   "id": "bf6e6dd4",
   "metadata": {},
   "outputs": [],
   "source": [
    "def router(state:AgentState):\n",
    "    print(\"--------------- ROUTER ---------------\")\n",
    "    last_message=state[\"messages\"][-1]\n",
    "    print(\"last_message:\", last_message)\n",
    "    print (\"-------------------------------------\")\n",
    "    \n",
    "    if \"usa\" in last_message.lower():\n",
    "        return \"RAG Call\"\n",
    "    else:\n",
    "        return \"LLM Call\""
   ]
  },
  {
   "cell_type": "code",
   "execution_count": 102,
   "id": "6babdc7f",
   "metadata": {},
   "outputs": [
    {
     "name": "stdout",
     "output_type": "stream",
     "text": [
      "--------------- ROUTER ---------------\n",
      "last_message: USA\n",
      "-------------------------------------\n"
     ]
    },
    {
     "data": {
      "text/plain": [
       "'RAG Call'"
      ]
     },
     "execution_count": 102,
     "metadata": {},
     "output_type": "execute_result"
    }
   ],
   "source": [
    "router({'messages': ['USA']})"
   ]
  },
  {
   "cell_type": "code",
   "execution_count": 103,
   "id": "ebfa3a3b",
   "metadata": {},
   "outputs": [
    {
     "name": "stdout",
     "output_type": "stream",
     "text": [
      "--------------- ROUTER ---------------\n",
      "last_message: Not Related\n",
      "-------------------------------------\n"
     ]
    },
    {
     "data": {
      "text/plain": [
       "'LLM Call'"
      ]
     },
     "execution_count": 103,
     "metadata": {},
     "output_type": "execute_result"
    }
   ],
   "source": [
    "router({'messages': ['Not Related']})"
   ]
  },
  {
   "cell_type": "code",
   "execution_count": 104,
   "id": "af753cb5",
   "metadata": {},
   "outputs": [],
   "source": [
    "def format_docs(docs):\n",
    "    return \"\\n\\n\".join(doc.page_content for doc in docs)"
   ]
  },
  {
   "cell_type": "code",
   "execution_count": 105,
   "id": "a3743e16",
   "metadata": {},
   "outputs": [
    {
     "name": "stdout",
     "output_type": "stream",
     "text": [
      "The world must be made safe for democracy. Its peace must be planted upon the tested foundations of political liberty. We have no selfish ends to serve. We desire no conquest, no dominion. We seek no\n",
      "\n",
      "We desire no conquest, no dominion. We seek no indemnities for ourselves, no material compensation for the sacrifices we shall freely make. We are but one of the champions of the rights of mankind.\n",
      "\n",
      "one of the champions of the rights of mankind. We shall be satisfied when those rights have been made as secure as the faith and the freedom of nations can make them.\n"
     ]
    }
   ],
   "source": [
    "print (format_docs(new_docs[:3]))"
   ]
  },
  {
   "cell_type": "code",
   "execution_count": 106,
   "id": "98347ce6",
   "metadata": {},
   "outputs": [],
   "source": [
    "# RAG Function\n",
    "\n",
    "def function_2(state:AgentState):\n",
    "    print(\"--------------- RAG ---------------\")\n",
    "    \n",
    "    question = state[\"messages\"][0]\n",
    "    \n",
    "    prompt=PromptTemplate(\n",
    "        template=\"\"\"You are an assistant for question-answering tasks. Use the following pieces of retrieved context to answer the question. If you don't know the answer, just say that you don't know. Use three sentences maximum and keep the answer concise.\\nQuestion: {question} \\nContext: {context} \\nAnswer:\"\"\",\n",
    "        \n",
    "        input_variables=['context', 'question']\n",
    "    )\n",
    "    \n",
    "    rag_chain = (\n",
    "        {\"context\": retriever | format_docs, \"question\": RunnablePassthrough()}\n",
    "        | prompt\n",
    "        | model\n",
    "        | StrOutputParser()\n",
    "    )\n",
    "    result = rag_chain.invoke(question)\n",
    "    return  {\"messages\": [result]}"
   ]
  },
  {
   "cell_type": "code",
   "execution_count": 110,
   "id": "5a80caa8",
   "metadata": {},
   "outputs": [],
   "source": [
    "# LLM Function\n",
    "\n",
    "def function_3(state:AgentState):\n",
    "    print(\"--------------- LLM ---------------\")\n",
    "\n",
    "    question = state[\"messages\"][0]\n",
    "    \n",
    "    complete_query = \"Anwer the follow question with your knowledge of the real world. Following is the user question: \" + question\n",
    "    response = model.invoke(complete_query)\n",
    "    return {\"messages\": [response.content]}"
   ]
  },
  {
   "cell_type": "markdown",
   "id": "3934fe1d",
   "metadata": {},
   "source": [
    "Let's build the Graph"
   ]
  },
  {
   "cell_type": "code",
   "execution_count": 111,
   "id": "49e8f565",
   "metadata": {},
   "outputs": [],
   "source": [
    "workflow = StateGraph(AgentState)"
   ]
  },
  {
   "cell_type": "code",
   "execution_count": 112,
   "id": "12cefcb7",
   "metadata": {},
   "outputs": [
    {
     "data": {
      "text/plain": [
       "<langgraph.graph.state.StateGraph at 0x1ebe338b9a0>"
      ]
     },
     "execution_count": 112,
     "metadata": {},
     "output_type": "execute_result"
    }
   ],
   "source": [
    "workflow.add_node(\"Supervisor\", function_1)\n",
    "workflow.add_node(\"RAG\", function_2)\n",
    "workflow.add_node(\"LLM\", function_3)"
   ]
  },
  {
   "cell_type": "code",
   "execution_count": 113,
   "id": "08aae940",
   "metadata": {},
   "outputs": [
    {
     "data": {
      "text/plain": [
       "<langgraph.graph.state.StateGraph at 0x1ebe338b9a0>"
      ]
     },
     "execution_count": 113,
     "metadata": {},
     "output_type": "execute_result"
    }
   ],
   "source": [
    "workflow.set_entry_point(\"Supervisor\")\n",
    "\n",
    "workflow.add_conditional_edges(\n",
    "    \"Supervisor\",\n",
    "    router,\n",
    "    {\n",
    "        \"RAG Call\": \"RAG\",\n",
    "        \"LLM Call\": \"LLM\",\n",
    "    }\n",
    ")\n",
    "\n",
    "workflow.add_edge(\"RAG\",END)\n",
    "workflow.add_edge(\"LLM\",END)"
   ]
  },
  {
   "cell_type": "code",
   "execution_count": 114,
   "id": "a39de7b1",
   "metadata": {},
   "outputs": [
    {
     "data": {
      "image/png": "[encoded data removed]",
      "text/plain": [
       "<langgraph.graph.state.CompiledStateGraph object at 0x000001EBE338B7F0>"
      ]
     },
     "execution_count": 114,
     "metadata": {},
     "output_type": "execute_result"
    }
   ],
   "source": [
    "workflow.compile()"
   ]
  },
  {
   "cell_type": "code",
   "execution_count": 115,
   "id": "6745ab70",
   "metadata": {},
   "outputs": [],
   "source": [
    "app=workflow.compile()"
   ]
  },
  {
   "cell_type": "markdown",
   "id": "2ec2b269",
   "metadata": {},
   "source": [
    "Let's Test the Graph(app)"
   ]
  },
  {
   "cell_type": "code",
   "execution_count": 116,
   "id": "bbca6942",
   "metadata": {},
   "outputs": [],
   "source": [
    "# 1. General Question\n",
    "\n",
    "state={\"messages\":[\"hi\"]}"
   ]
  },
  {
   "cell_type": "code",
   "execution_count": 117,
   "id": "83bd58b3",
   "metadata": {},
   "outputs": [
    {
     "name": "stdout",
     "output_type": "stream",
     "text": [
      "Question hi\n",
      "Parsed response: Topic='Not Related' Reasoning=\"The query 'hi' is a generic greeting and does not relate to the USA.\"\n",
      "--------------- ROUTER ---------------\n",
      "last_message: Not Related\n",
      "-------------------------------------\n",
      "--------------- LLM ---------------\n"
     ]
    },
    {
     "data": {
      "text/plain": [
       "{'messages': ['hi', 'Not Related', 'Hi there!']}"
      ]
     },
     "execution_count": 117,
     "metadata": {},
     "output_type": "execute_result"
    }
   ],
   "source": [
    "app.invoke(state)"
   ]
  },
  {
   "cell_type": "code",
   "execution_count": 118,
   "id": "b395437e",
   "metadata": {},
   "outputs": [],
   "source": [
    "# 2. USA related Question\n",
    "\n",
    "state={\"messages\":[\"can you tell me the industrial growth of world's most powerful economy?\"]}"
   ]
  },
  {
   "cell_type": "code",
   "execution_count": 119,
   "id": "8839c48c",
   "metadata": {},
   "outputs": [
    {
     "name": "stdout",
     "output_type": "stream",
     "text": [
      "Question can you tell me the industrial growth of world's most powerful economy?\n",
      "Parsed response: Topic='USA' Reasoning=\"The query asks about the industrial growth of the world's most powerful economy, which is generally considered to be the USA.\"\n",
      "--------------- ROUTER ---------------\n",
      "last_message: USA\n",
      "-------------------------------------\n",
      "--------------- RAG ---------------\n"
     ]
    },
    {
     "data": {
      "text/plain": [
       "{'messages': [\"can you tell me the industrial growth of world's most powerful economy?\",\n",
       "  'USA',\n",
       "  'This question cannot be answered from the given context.  The provided text is a political speech, not economic data.']}"
      ]
     },
     "execution_count": 119,
     "metadata": {},
     "output_type": "execute_result"
    }
   ],
   "source": [
    "app.invoke(state)"
   ]
  },
  {
   "cell_type": "code",
   "execution_count": 122,
   "id": "f8d73eb8",
   "metadata": {},
   "outputs": [],
   "source": [
    "# 3. Tricky Question\n",
    "\n",
    "state={\"messages\":[\"can you tell me the industrial growth of world's most poor economy?\"]}"
   ]
  },
  {
   "cell_type": "code",
   "execution_count": 123,
   "id": "7436e4ee",
   "metadata": {},
   "outputs": [
    {
     "name": "stdout",
     "output_type": "stream",
     "text": [
      "Question can you tell me the industrial growth of world's most poor economy?\n",
      "Parsed response: Topic='Not Related' Reasoning=\"The query asks about the industrial growth of the world's poorest economy, which is a global issue not specific to the USA.\"\n",
      "--------------- ROUTER ---------------\n",
      "last_message: Not Related\n",
      "-------------------------------------\n",
      "--------------- LLM ---------------\n"
     ]
    },
    {
     "data": {
      "text/plain": [
       "{'messages': [\"can you tell me the industrial growth of world's most poor economy?\",\n",
       "  'Not Related',\n",
       "  'There\\'s no single definitive answer to \"the industrial growth of the world\\'s most poor economy\" because:\\n\\n1. **Defining \"most poor\" is complex:**  Poverty is measured in various ways (GDP per capita, poverty rates, Gini coefficient, etc.), and different metrics will yield different \"poorest\" countries.  Rankings also fluctuate.\\n\\n2. **Data availability is inconsistent:** Reliable, consistent industrial growth data isn\\'t available for all countries, especially the poorest.  Many lack robust statistical systems.\\n\\n3. **\"Industrial growth\" is broad:**  This could refer to manufacturing output, the overall industrial sector (including mining, utilities), or even broader economic activity related to industry.  The meaning significantly impacts the answer.\\n\\n4. **Growth is uneven:**  Even within a single country, industrial growth can be highly concentrated in specific regions or sectors, masking overall trends.\\n\\n\\nInstead of a specific number, it\\'s more accurate to say that the industrial growth of the world\\'s poorest economies is generally **low and volatile**.  These countries often face significant challenges hindering industrial development, including:\\n\\n* **Lack of infrastructure:** Poor transportation, energy, and communication networks impede industrial activity.\\n* **Limited access to capital:**  Businesses struggle to secure loans and investments.\\n* **Political instability and conflict:**  These disrupt production and discourage investment.\\n* **Human capital limitations:**  Lack of skilled labor and education hinder productivity.\\n* **Dependence on primary commodities:** Many rely heavily on exporting raw materials, leaving them vulnerable to price fluctuations and offering limited value addition.\\n\\n\\nTo find information on the industrial growth of a *specific* country often considered among the poorest, you would need to specify the country and consult sources like the World Bank, International Monetary Fund (IMF), and national statistical agencies.  Even then, data quality might be limited.']}"
      ]
     },
     "execution_count": 123,
     "metadata": {},
     "output_type": "execute_result"
    }
   ],
   "source": [
    "app.invoke(state)"
   ]
  },
  {
   "cell_type": "markdown",
   "id": "f93f03c2",
   "metadata": {},
   "source": [
    "Let's analyze the Response(result)"
   ]
  },
  {
   "cell_type": "code",
   "execution_count": 129,
   "id": "d7d93ac9",
   "metadata": {},
   "outputs": [
    {
     "name": "stdout",
     "output_type": "stream",
     "text": [
      "Question can you tell me the industrial growth of world's most poor economy?\n",
      "Parsed response: Topic='Not Related' Reasoning=\"The query asks about the industrial growth of the world's poorest economy, which is a global economic topic not specific to the USA.\"\n",
      "--------------- ROUTER ---------------\n",
      "last_message: Not Related\n",
      "-------------------------------------\n",
      "--------------- LLM ---------------\n"
     ]
    }
   ],
   "source": [
    "result = app.invoke(state)"
   ]
  },
  {
   "cell_type": "code",
   "execution_count": 130,
   "id": "f6d7cebd",
   "metadata": {},
   "outputs": [
    {
     "name": "stdout",
     "output_type": "stream",
     "text": [
      "There's no single, universally agreed-upon measure of \"world's most poor economy,\" as different metrics (GDP per capita, poverty rates, Human Development Index, etc.) yield different results.  Further complicating matters is the difficulty in accurately collecting economic data in many of the world's poorest countries.\n",
      "\n",
      "However, generally speaking, the industrial growth in the economies often considered among the poorest is characterized by:\n",
      "\n",
      "* **Low levels of industrialization:**  These economies tend to be heavily reliant on agriculture and subsistence farming, with limited industrial sectors.  Manufacturing is often small-scale, informal, and lacks advanced technology.\n",
      "\n",
      "* **Slow and uneven growth:**  Industrial growth, when it occurs, is often slow, uneven, and vulnerable to external shocks (e.g., commodity price fluctuations, climate change).\n",
      "\n",
      "* **Limited diversification:** Industrial output is frequently concentrated in a few sectors, making these economies susceptible to downturns in those specific industries.\n",
      "\n",
      "* **Challenges in infrastructure:**  Poor infrastructure (roads, electricity, communication networks) hinders industrial development.\n",
      "\n",
      "* **Lack of access to finance and technology:**  Businesses struggle to access credit and modern technology, limiting their capacity to grow and innovate.\n",
      "\n",
      "* **Political and institutional instability:**  Corruption, weak governance, and conflict can severely impede industrial development.\n",
      "\n",
      "To give a more precise answer, you would need to specify which country you consider the \"world's most poor economy\" based on a particular metric and then research that country's industrial growth using reliable sources like the World Bank, International Monetary Fund (IMF), or national statistical agencies.  Even then, data might be incomplete or unreliable.\n"
     ]
    }
   ],
   "source": [
    "print (result[\"messages\"][-1])"
   ]
  }
 ],
 "metadata": {
  "kernelspec": {
   "display_name": "cv_collection_review_rnd",
   "language": "python",
   "name": "python3"
  },
  "language_info": {
   "codemirror_mode": {
    "name": "ipython",
    "version": 3
   },
   "file_extension": ".py",
   "mimetype": "text/x-python",
   "name": "python",
   "nbconvert_exporter": "python",
   "pygments_lexer": "ipython3",
   "version": "3.10.16"
  }
 },
 "nbformat": 4,
 "nbformat_minor": 5
}
